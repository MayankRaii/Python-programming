{
 "cells": [
  {
   "cell_type": "markdown",
   "metadata": {},
   "source": [
    "Given two numbers, find its Greatest Common Divisor (Divisor)."
   ]
  },
  {
   "cell_type": "code",
   "execution_count": 1,
   "metadata": {},
   "outputs": [],
   "source": [
    "def fun_hcf(num_1,num_2):\n",
    "    # The function takes two numbers as input and stores it in the variable num_1,num_2.\n",
    "    if isinstance(num_1,int) and isinstance(num_2,int) and num_1>=0 and num_2>=0:\n",
    "        # If both number is equal then hcf is number itself.\n",
    "        if num_1==num_2 and num_1 != 0:\n",
    "            return num_1\n",
    "        elif num_1==0 and num_2==0:\n",
    "            return False,\"GCD can't be determined\"\n",
    "        elif num_1==0 or num_2==0: # if one of them is zero then hcf is greatest among two.\n",
    "            if num_1==0:\n",
    "                return num_2\n",
    "            else:\n",
    "                return num_1\n",
    "        # now solving for both are different.\n",
    "        else:\n",
    "            #  range of hcf of two number is from 1 to min(num1,num2).\n",
    "            if num_1<num_2:\n",
    "                min_num = num_1\n",
    "            else:\n",
    "                min_num = num_2\n",
    "            hcf_list= []\n",
    "            for x in range(1,min_num+1):\n",
    "                if num_1 % x == 0 and num_2 % x == 0:\n",
    "                    hcf_list.append(x)\n",
    "            return True,\"Greatest Common Divisor =\",hcf_list[-1]\n",
    "    else:\n",
    "        return False,\"Please enter positive integers\"\n",
    "         "
   ]
  },
  {
   "cell_type": "code",
   "execution_count": 2,
   "metadata": {},
   "outputs": [
    {
     "data": {
      "text/plain": [
       "(True, 'Greatest Common Divisor =', 1)"
      ]
     },
     "execution_count": 2,
     "metadata": {},
     "output_type": "execute_result"
    }
   ],
   "source": [
    "#check here\n",
    "fun_hcf(27,5)"
   ]
  }
 ],
 "metadata": {
  "kernelspec": {
   "display_name": "Python 3",
   "language": "python",
   "name": "python3"
  },
  "language_info": {
   "codemirror_mode": {
    "name": "ipython",
    "version": 3
   },
   "file_extension": ".py",
   "mimetype": "text/x-python",
   "name": "python",
   "nbconvert_exporter": "python",
   "pygments_lexer": "ipython3",
   "version": "3.11.4"
  }
 },
 "nbformat": 4,
 "nbformat_minor": 2
}
