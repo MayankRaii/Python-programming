{
 "cells": [
  {
   "cell_type": "markdown",
   "metadata": {},
   "source": [
    "Given a list of numbers, find out how many times each number occurs in the list.\n"
   ]
  },
  {
   "cell_type": "code",
   "execution_count": 3,
   "metadata": {},
   "outputs": [],
   "source": [
    "def fun_rep(lst):\n",
    "    # The function takes a list as input and stores it in the variable lst.\n",
    "    new_lst = []\n",
    "    for x in lst:\n",
    "            # Itirating each element of list one by one.\n",
    "        count = 0\n",
    "        if x not in new_lst:\n",
    "            # condition for no repetition.\n",
    "            for i in lst:\n",
    "                if x==i:\n",
    "                    count = count + 1\n",
    "            new_lst.append(x)\n",
    "            print(x,\"comes\",count,\"times.\") "
   ]
  },
  {
   "cell_type": "code",
   "execution_count": 5,
   "metadata": {},
   "outputs": [
    {
     "name": "stdout",
     "output_type": "stream",
     "text": [
      "1 comes 2 times.\n",
      "2 comes 3 times.\n",
      "3 comes 3 times.\n",
      "4 comes 3 times.\n",
      "5 comes 3 times.\n",
      "6 comes 2 times.\n",
      "7 comes 2 times.\n",
      "-8 comes 2 times.\n",
      "8 comes 2 times.\n",
      "1.9 comes 1 times.\n"
     ]
    }
   ],
   "source": [
    "#check here\n",
    "fun_rep([1,2,3,4,1,2,3,4,5,6,7,-8,4,5,3,2,5,7,6,-8,8,8,1.9])"
   ]
  }
 ],
 "metadata": {
  "kernelspec": {
   "display_name": "Python 3",
   "language": "python",
   "name": "python3"
  },
  "language_info": {
   "codemirror_mode": {
    "name": "ipython",
    "version": 3
   },
   "file_extension": ".py",
   "mimetype": "text/x-python",
   "name": "python",
   "nbconvert_exporter": "python",
   "pygments_lexer": "ipython3",
   "version": "3.11.4"
  }
 },
 "nbformat": 4,
 "nbformat_minor": 2
}
