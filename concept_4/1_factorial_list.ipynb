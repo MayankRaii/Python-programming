{
 "cells": [
  {
   "cell_type": "markdown",
   "metadata": {},
   "source": [
    "Given a list of positive integers, find the factorial of all the numbers.\n"
   ]
  },
  {
   "cell_type": "code",
   "execution_count": 1,
   "metadata": {},
   "outputs": [],
   "source": [
    "def fun_fact(lst):\n",
    "    # The function takes a list as input and stores it in the variable lst. \n",
    "    fact_lst=[]        # take empty list to store factorial\n",
    "    for x in lst:\n",
    "        # Iterating over given list using \"for loop\".\n",
    "        fact=1\n",
    "        for i in range(2,x+1):\n",
    "            fact=fact*i\n",
    "        fact_lst.append(fact)    # appending factorial to the created list.\n",
    "    return \"factorial is :\",fact_lst\n"
   ]
  },
  {
   "cell_type": "code",
   "execution_count": 2,
   "metadata": {},
   "outputs": [
    {
     "data": {
      "text/plain": [
       "('factorial is :', [1, 2, 6, 24, 120, 720, 5040, 40320, 362880])"
      ]
     },
     "execution_count": 2,
     "metadata": {},
     "output_type": "execute_result"
    }
   ],
   "source": [
    "#check here\n",
    "fun_fact([1,2,3,4,5,6,7,8,9])"
   ]
  }
 ],
 "metadata": {
  "kernelspec": {
   "display_name": "Python 3",
   "language": "python",
   "name": "python3"
  },
  "language_info": {
   "codemirror_mode": {
    "name": "ipython",
    "version": 3
   },
   "file_extension": ".py",
   "mimetype": "text/x-python",
   "name": "python",
   "nbconvert_exporter": "python",
   "pygments_lexer": "ipython3",
   "version": "3.11.4"
  }
 },
 "nbformat": 4,
 "nbformat_minor": 2
}
