{
 "cells": [
  {
   "cell_type": "markdown",
   "metadata": {},
   "source": [
    "Given a positive integers, find out the sum of all prime numbers from 1 up to this number.\n"
   ]
  },
  {
   "cell_type": "code",
   "execution_count": 1,
   "metadata": {},
   "outputs": [],
   "source": [
    "def fun_sum_prime(num):\n",
    "    # The function takes a number as input and stores it in the variable num.\n",
    "    sum_num=0  # Initialising a variable for adding prime numbers.\n",
    "    for x in range(2,num+1):\n",
    "        count=0\n",
    "        for i in range(2,int(x**0.5)+1):\n",
    "            if x % i == 0:\n",
    "                count=count+1\n",
    "        if count == 0:\n",
    "            sum_num = sum_num + x\n",
    "    return True,\"sum of prime numbers =\",sum_num"
   ]
  },
  {
   "cell_type": "code",
   "execution_count": 2,
   "metadata": {},
   "outputs": [
    {
     "data": {
      "text/plain": [
       "(True, 'sum of prime numbers =', 1060)"
      ]
     },
     "execution_count": 2,
     "metadata": {},
     "output_type": "execute_result"
    }
   ],
   "source": [
    "#check here\n",
    "fun_sum_prime(100)"
   ]
  }
 ],
 "metadata": {
  "kernelspec": {
   "display_name": "Python 3",
   "language": "python",
   "name": "python3"
  },
  "language_info": {
   "codemirror_mode": {
    "name": "ipython",
    "version": 3
   },
   "file_extension": ".py",
   "mimetype": "text/x-python",
   "name": "python",
   "nbconvert_exporter": "python",
   "pygments_lexer": "ipython3",
   "version": "3.11.4"
  }
 },
 "nbformat": 4,
 "nbformat_minor": 2
}
