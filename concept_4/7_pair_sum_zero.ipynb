{
 "cells": [
  {
   "cell_type": "markdown",
   "metadata": {},
   "source": [
    "Given a list of integers, find all pairs of integers in the list whose sum is zero.\n",
    "\n"
   ]
  },
  {
   "cell_type": "code",
   "execution_count": 22,
   "metadata": {},
   "outputs": [
    {
     "name": "stdout",
     "output_type": "stream",
     "text": [
      "[(1, -1), (3, -3), (5, -5), (0, 0)]\n"
     ]
    }
   ],
   "source": [
    "lst = [1,2,3,4,5,-1,-3,-5,0,0]\n",
    "len_lst = len(lst)\n",
    "pair_list = []\n",
    "for i in range(len_lst):                    # taking index of list by range one by one.\n",
    "    for j in range(i+1,len_lst):            # taking index of list by range one by one.\n",
    "        if lst[i]+lst[j]==0:                # cheak for pair elements sum equal to zero.\n",
    "            pair = (lst[i],lst[j])\n",
    "            if pair not in pair_list:       # for not repeat any pair\n",
    "                pair_list.append(pair)\n",
    "\n",
    "print(pair_list)"
   ]
  },
  {
   "cell_type": "code",
   "execution_count": 23,
   "metadata": {},
   "outputs": [],
   "source": [
    "def fun_pair(lst):\n",
    "     # The function takes a list as input and stores it in the variable lst.\n",
    "    pst_lst = []        # this empty list for positive numbers\n",
    "    ngt_lst = []        # this empty list for negative numbers\n",
    "    pair_lst = []       # this empty list for pairs\n",
    "    for x in lst:\n",
    "            # taking every element of list one by one.\n",
    "        if x > 0:\n",
    "            pst_lst.append(x)\n",
    "        elif x < 0:\n",
    "            ngt_lst.append(x)\n",
    "        else:\n",
    "            count = 0\n",
    "            for i in lst:\n",
    "                if x == i:\n",
    "                    count = count + 1\n",
    "            if count > 1:\n",
    "                if (x,x) not in pair_lst:\n",
    "                    pair_lst.append((x,x))\n",
    "\n",
    "    for j in pst_lst:        # taking every element of list one by one.\n",
    "        for k in ngt_lst:    # taking every element of list one by one.\n",
    "                if j == -k:\n",
    "                    if (j,k) not in  pair_lst:\n",
    "                        pair_lst.append((j,k))       #b appending pairs\n",
    "    return pair_lst"
   ]
  },
  {
   "cell_type": "code",
   "execution_count": 24,
   "metadata": {},
   "outputs": [
    {
     "data": {
      "text/plain": [
       "[(0, 0), (1, -1), (2, -2), (3, -3)]"
      ]
     },
     "execution_count": 24,
     "metadata": {},
     "output_type": "execute_result"
    }
   ],
   "source": [
    "#check here\n",
    "fun_pair([1,-1,2,-2,3,-3,4,5,6,0,0,0])"
   ]
  }
 ],
 "metadata": {
  "kernelspec": {
   "display_name": "Python 3",
   "language": "python",
   "name": "python3"
  },
  "language_info": {
   "codemirror_mode": {
    "name": "ipython",
    "version": 3
   },
   "file_extension": ".py",
   "mimetype": "text/x-python",
   "name": "python",
   "nbconvert_exporter": "python",
   "pygments_lexer": "ipython3",
   "version": "3.11.4"
  }
 },
 "nbformat": 4,
 "nbformat_minor": 2
}
