{
 "cells": [
  {
   "cell_type": "markdown",
   "metadata": {},
   "source": [
    "Given two 3x3 matrices with values stored in two lists of length 9, find their product."
   ]
  },
  {
   "cell_type": "code",
   "execution_count": 6,
   "metadata": {},
   "outputs": [
    {
     "name": "stdout",
     "output_type": "stream",
     "text": [
      "[6, 6, 6, 15, 15, 15, 24, 24, 24]\n"
     ]
    }
   ],
   "source": [
    "m1 = [1,2,3,4,5,6,7,8,9]\n",
    "m2 = [1,1,1,1,1,1,1,1,1]\n",
    "m1r1 = []           # row_1 of matrix_1\n",
    "m1r2 = []           # row_2 of matrix_1\n",
    "m1r3 = []           # row_3 of matrix_1\n",
    "m2r1 = []           # row_1 of matrix_2\n",
    "m2r2 = []           # row_2 of matrix_2\n",
    "m2r3 = []           # row_3 of matrix_2\n",
    "m1_new = []         # new_matrix_1\n",
    "m2_new = []         # new_matrix_2\n",
    "for i in m1[:3]:\n",
    "    m1r1.append(i)\n",
    "for i in m1[3:6]:\n",
    "    m1r2.append(i)\n",
    "for i in m1[6:9]:\n",
    "    m1r3.append(i)\n",
    "for j in m2[:3]:\n",
    "    m2r1.append(j)\n",
    "for j in m2[3:6]:\n",
    "    m2r2.append(j)\n",
    "for j in m2[6:9]:\n",
    "    m2r3.append(j)\n",
    "m1_new.append(m1r1)\n",
    "m1_new.append(m1r2)\n",
    "m1_new.append(m1r3)\n",
    "m2_new.append(m2r1)\n",
    "m2_new.append(m2r2)\n",
    "m2_new.append(m2r3)\n",
    "if len(m1)==len(m2):\n",
    "     # checking both matrix have same order\n",
    "    pro_list = []     \n",
    "    pro_mat = [[0,0,0],[0,0,0],[0,0,0]]   \n",
    "    # assigning product matrix to update particular position.\n",
    "    for x in range(len(m1_new)):\n",
    "        for y in range(len(m2_new)):\n",
    "            for z in range(len(m2_new)):\n",
    "                pro_mat[x][y] += m1_new[x][z]*m2_new[z][y]      \n",
    "                # updating each position by multiplying and adding.\n",
    "    for ele in pro_mat:\n",
    "        pro_list.extend(ele)           \n",
    "        # to get result list with length 9 using extend() function.\n",
    "    print(pro_list)\n",
    "else:\n",
    "    print(\"matrix have different order\")"
   ]
  }
 ],
 "metadata": {
  "kernelspec": {
   "display_name": "Python 3",
   "language": "python",
   "name": "python3"
  },
  "language_info": {
   "codemirror_mode": {
    "name": "ipython",
    "version": 3
   },
   "file_extension": ".py",
   "mimetype": "text/x-python",
   "name": "python",
   "nbconvert_exporter": "python",
   "pygments_lexer": "ipython3",
   "version": "3.11.4"
  }
 },
 "nbformat": 4,
 "nbformat_minor": 2
}
