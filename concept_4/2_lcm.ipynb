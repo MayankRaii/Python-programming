{
 "cells": [
  {
   "cell_type": "markdown",
   "metadata": {},
   "source": [
    "Given two numbers, find its Least Common Multiple (LCM)."
   ]
  },
  {
   "cell_type": "code",
   "execution_count": 5,
   "metadata": {},
   "outputs": [],
   "source": [
    "def fun_lcm(num_1,num_2):\n",
    "    # The function takes two numbers as input and stores it in the variable num_1,num_2.\n",
    "    if isinstance(num_1,int) and isinstance(num_2,int) and num_1>=0 and num_2>=0:\n",
    "        # If both number is equal then lcm is number itself.\n",
    "        if num_1==num_2 and num_1!=0:\n",
    "            return True,num_1\n",
    "        elif num_1==0 or num_2==0: # if one of them is zero then lcm is not define.\n",
    "            return False,\"LCM is not define\"\n",
    "        # now solving for both are different.\n",
    "        else:\n",
    "            #  range of lcm of two number is max(num1,num2) to num1*num2.\n",
    "            if num_1 > num_2:\n",
    "                max_num = num_1\n",
    "            else:\n",
    "                max_num = num_2\n",
    "            for x in range(max_num,(num_1*num_2)+1,max_num):\n",
    "                if x % num_1 == 0 and x % num_2 == 0:\n",
    "                    return True,\"LCM =\",x\n",
    "    else:\n",
    "        return False,\"Please enter positive integers\""
   ]
  },
  {
   "cell_type": "code",
   "execution_count": 6,
   "metadata": {},
   "outputs": [
    {
     "data": {
      "text/plain": [
       "(True, 'LCM =', 60)"
      ]
     },
     "execution_count": 6,
     "metadata": {},
     "output_type": "execute_result"
    }
   ],
   "source": [
    "#check here\n",
    "fun_lcm(15,4)"
   ]
  }
 ],
 "metadata": {
  "kernelspec": {
   "display_name": "Python 3",
   "language": "python",
   "name": "python3"
  },
  "language_info": {
   "codemirror_mode": {
    "name": "ipython",
    "version": 3
   },
   "file_extension": ".py",
   "mimetype": "text/x-python",
   "name": "python",
   "nbconvert_exporter": "python",
   "pygments_lexer": "ipython3",
   "version": "3.11.4"
  }
 },
 "nbformat": 4,
 "nbformat_minor": 2
}
