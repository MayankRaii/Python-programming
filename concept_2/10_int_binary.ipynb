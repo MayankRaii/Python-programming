{
 "cells": [
  {
   "cell_type": "markdown",
   "metadata": {},
   "source": [
    "Given a positive integer, convert it into binary, and vice-versa."
   ]
  },
  {
   "cell_type": "code",
   "execution_count": 24,
   "metadata": {},
   "outputs": [
    {
     "name": "stdout",
     "output_type": "stream",
     "text": [
      "num = 11\n",
      "[1, 0, 1, 1]\n"
     ]
    }
   ],
   "source": [
    "# Decimal to Binary:\n",
    "# method 1 \n",
    "import math                   # importing mmaths module to perform calculation\n",
    "# taking num as input\n",
    "num=int(input(\"Enter positive integer\"))\n",
    "print(\"num =\",num)\n",
    "lst=[]                        # created a list\n",
    "b=int(math.log2(num))+1       # number of steps to iterate for\n",
    "for i in range(b):\n",
    "    x=num%2\n",
    "    num=num//2                # updating number for further steps to proceed ahead \n",
    "    lst.append(x)\n",
    "lst.reverse()                 # reversing to get right order\n",
    "print(lst)"
   ]
  },
  {
   "cell_type": "code",
   "execution_count": 25,
   "metadata": {},
   "outputs": [],
   "source": [
    "# method 2 (by function)\n",
    "def fun_binary(num):\n",
    "# The function takes a number as input and stores it in the variable num. \n",
    "    import math                # importing mmaths module to perform calculation\n",
    "    lst=[]                     # created a list\n",
    "    b=int(math.log2(num))+1    # number of steps to iterate for\n",
    "    for i in range(b):\n",
    "        x=num%2\n",
    "        num=num//2             # updating number for further steps to proceed ahead \n",
    "        lst.append(x)\n",
    "    lst.reverse()              # reversing to get right order\n",
    "    return lst"
   ]
  },
  {
   "cell_type": "code",
   "execution_count": 26,
   "metadata": {},
   "outputs": [
    {
     "data": {
      "text/plain": [
       "[1, 0, 1, 1]"
      ]
     },
     "execution_count": 26,
     "metadata": {},
     "output_type": "execute_result"
    }
   ],
   "source": [
    "#check here\n",
    "fun_binary(11)"
   ]
  },
  {
   "cell_type": "code",
   "execution_count": 27,
   "metadata": {},
   "outputs": [
    {
     "name": "stdout",
     "output_type": "stream",
     "text": [
      "Decimal value of 1011 is:  11\n"
     ]
    }
   ],
   "source": [
    "# binary to decimal\n",
    "# method 1 \n",
    "num=int(input(\"Enter any positive binary number: \"))\n",
    "str_num = str(num)                   # converting to string for iterating also.\n",
    "len_num=len(str_num)                 \n",
    "a=1                                  # assigned variable to calculate correct power.\n",
    "b=0                                  # assigned variable to store sum of decimal calculation.\n",
    "for i in str_num:\n",
    "    b+=int(i)*(2**(len_num-a))\n",
    "    # 'i' is since a string so converted to integer to multiply with resp. power of 2 in calculation.     \n",
    "    a=a+1\n",
    "print(\"Decimal value of\",num,\"is: \",b)\n"
   ]
  },
  {
   "cell_type": "code",
   "execution_count": 28,
   "metadata": {},
   "outputs": [],
   "source": [
    "def fun_decimal(num):\n",
    "    str_num = str(num)                   # converting to string for iterating also.\n",
    "    len_num=len(str_num)                 \n",
    "    a=1                                  # assigned variable to calculate correct power.\n",
    "    b=0                                  # assigned variable to store sum of decimal calculation.\n",
    "    for i in str_num:\n",
    "        b+=int(i)*(2**(len_num-a))\n",
    "        # 'i' is since a string so converted to integer to multiply with resp. power of 2 in calculation.     \n",
    "        a=a+1\n",
    "    return \"Decimal value of\",num,\"is: \",b\n"
   ]
  },
  {
   "cell_type": "code",
   "execution_count": 29,
   "metadata": {},
   "outputs": [
    {
     "data": {
      "text/plain": [
       "('Decimal value of', 1011, 'is: ', 11)"
      ]
     },
     "execution_count": 29,
     "metadata": {},
     "output_type": "execute_result"
    }
   ],
   "source": [
    "#check here\n",
    "fun_decimal(1011)"
   ]
  }
 ],
 "metadata": {
  "kernelspec": {
   "display_name": "Python 3",
   "language": "python",
   "name": "python3"
  },
  "language_info": {
   "codemirror_mode": {
    "name": "ipython",
    "version": 3
   },
   "file_extension": ".py",
   "mimetype": "text/x-python",
   "name": "python",
   "nbconvert_exporter": "python",
   "pygments_lexer": "ipython3",
   "version": "3.11.4"
  }
 },
 "nbformat": 4,
 "nbformat_minor": 2
}
