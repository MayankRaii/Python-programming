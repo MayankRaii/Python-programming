{
 "cells": [
  {
   "cell_type": "markdown",
   "metadata": {},
   "source": [
    "Given a positive integer, print each of its digits separately without converting the number into a string."
   ]
  },
  {
   "cell_type": "code",
   "execution_count": 3,
   "metadata": {},
   "outputs": [
    {
     "name": "stdout",
     "output_type": "stream",
     "text": [
      "num = 1234567890\n",
      "[1, 2, 3, 4, 5, 6, 7, 8, 9, 0]\n"
     ]
    }
   ],
   "source": [
    "# method 1\n",
    "import math     # importing maths module to perform calculation.\n",
    "# taking num as input\n",
    "num=int(input(\"Enter positive integer\"))\n",
    "print(\"num =\",num)\n",
    "lst=[]                         # created empty list\n",
    "b=int(math.log10(num))+1       # number of steps need to iterate for.\n",
    "for i in range(b):\n",
    "    x=num%10                   # getting remainder to append\n",
    "    num=num//10                # updating number by floor division to proceed ahead\n",
    "    lst.append(x)\n",
    "lst.reverse()                  # reversing to get right order\n",
    "print(lst)"
   ]
  },
  {
   "cell_type": "code",
   "execution_count": 1,
   "metadata": {},
   "outputs": [],
   "source": [
    "# method 2 (by function)\n",
    "def fun_digit(num):\n",
    "# The function takes a number as input and stores it in the variable num. \n",
    "    import math                    # importing maths module to perform calculation.\n",
    "    lst=[]                         # created empty list\n",
    "    b=int(math.log10(num))+1       # number of steps need to iterate for.\n",
    "    for i in range(b):\n",
    "        x=num%10                   # getting remainder to append\n",
    "        num=num//10                # updating number by floor division to proceed ahead\n",
    "        lst.append(x)\n",
    "    lst.reverse()                   # reversing to get right order\n",
    "    return lst"
   ]
  },
  {
   "cell_type": "code",
   "execution_count": 2,
   "metadata": {},
   "outputs": [
    {
     "data": {
      "text/plain": [
       "[1, 2, 3, 4, 5, 6, 7, 8, 9, 0]"
      ]
     },
     "execution_count": 2,
     "metadata": {},
     "output_type": "execute_result"
    }
   ],
   "source": [
    "#check here\n",
    "fun_digit(1234567890)"
   ]
  }
 ],
 "metadata": {
  "kernelspec": {
   "display_name": "Python 3",
   "language": "python",
   "name": "python3"
  },
  "language_info": {
   "codemirror_mode": {
    "name": "ipython",
    "version": 3
   },
   "file_extension": ".py",
   "mimetype": "text/x-python",
   "name": "python",
   "nbconvert_exporter": "python",
   "pygments_lexer": "ipython3",
   "version": "3.11.4"
  }
 },
 "nbformat": 4,
 "nbformat_minor": 2
}
