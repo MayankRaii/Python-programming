{
 "cells": [
  {
   "cell_type": "markdown",
   "metadata": {},
   "source": [
    "Given a positive integer, find out the sum of all odd numbers from 1 up to this number."
   ]
  },
  {
   "cell_type": "code",
   "execution_count": 6,
   "metadata": {},
   "outputs": [
    {
     "name": "stdout",
     "output_type": "stream",
     "text": [
      "num = 10\n",
      "sum of odd numbers = 25\n"
     ]
    }
   ],
   "source": [
    "# method 1\n",
    "# taking num as input\n",
    "num =int(input(\"Enter positive integer\"))\n",
    "print(\"num =\",num)\n",
    "sum_num = 0\n",
    "for x in range(1,num+1,2):                  # used 2 as jumping index to iterate only odd integers here.\n",
    "    sum_num = sum_num + x \n",
    "print(\"sum of odd numbers =\",sum_num) "
   ]
  },
  {
   "cell_type": "code",
   "execution_count": 7,
   "metadata": {},
   "outputs": [],
   "source": [
    "# method 2 (by function)\n",
    "def fun_sum(num):\n",
    "# The function takes a number as input and stores it in the variable num. \n",
    "    sum_num = 0\n",
    "    for x in range(1,num+1,2):               # used 2 as jumping index to iterate only odd integers here.\n",
    "        sum_num = sum_num + x \n",
    "    return sum_num "
   ]
  },
  {
   "cell_type": "code",
   "execution_count": 8,
   "metadata": {},
   "outputs": [
    {
     "data": {
      "text/plain": [
       "25"
      ]
     },
     "execution_count": 8,
     "metadata": {},
     "output_type": "execute_result"
    }
   ],
   "source": [
    "#check here\n",
    "fun_sum(10)"
   ]
  }
 ],
 "metadata": {
  "kernelspec": {
   "display_name": "Python 3",
   "language": "python",
   "name": "python3"
  },
  "language_info": {
   "codemirror_mode": {
    "name": "ipython",
    "version": 3
   },
   "file_extension": ".py",
   "mimetype": "text/x-python",
   "name": "python",
   "nbconvert_exporter": "python",
   "pygments_lexer": "ipython3",
   "version": "3.11.4"
  }
 },
 "nbformat": 4,
 "nbformat_minor": 2
}
