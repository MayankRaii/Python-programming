{
 "cells": [
  {
   "cell_type": "markdown",
   "metadata": {},
   "source": [
    "Given a positive integer, find out the sum of all integers from 1 up to this number."
   ]
  },
  {
   "cell_type": "code",
   "execution_count": 2,
   "metadata": {},
   "outputs": [
    {
     "name": "stdout",
     "output_type": "stream",
     "text": [
      "num = 5\n",
      "sum = 15\n"
     ]
    }
   ],
   "source": [
    "# method 1\n",
    "# taking num as input\n",
    "num = int(input(\"Enter a positive integer\"))\n",
    "print(\"num =\",num)\n",
    "# we need to sum all integers from 1 up to num.\n",
    "sum_num = 0\n",
    "for x in range(1,num+1):\n",
    "    sum_num = sum_num + x\n",
    "print(\"sum =\",sum_num) "
   ]
  },
  {
   "cell_type": "code",
   "execution_count": 1,
   "metadata": {},
   "outputs": [],
   "source": [
    "# method 2 (by function)\n",
    "def fun_sum(num):\n",
    "    #The function takes a number as input and stores it in the variable num. \n",
    "    # we need to sum all integers from 1 up to num.\n",
    "    sum_num=0\n",
    "    for x in range(1,num+1):\n",
    "        sum_num = sum_num + x\n",
    "    return \"sum =\",sum_num"
   ]
  },
  {
   "cell_type": "code",
   "execution_count": 2,
   "metadata": {},
   "outputs": [
    {
     "data": {
      "text/plain": [
       "('sum =', 15)"
      ]
     },
     "execution_count": 2,
     "metadata": {},
     "output_type": "execute_result"
    }
   ],
   "source": [
    "#check here\n",
    "fun_sum(5)"
   ]
  }
 ],
 "metadata": {
  "kernelspec": {
   "display_name": "Python 3",
   "language": "python",
   "name": "python3"
  },
  "language_info": {
   "codemirror_mode": {
    "name": "ipython",
    "version": 3
   },
   "file_extension": ".py",
   "mimetype": "text/x-python",
   "name": "python",
   "nbconvert_exporter": "python",
   "pygments_lexer": "ipython3",
   "version": "3.11.4"
  }
 },
 "nbformat": 4,
 "nbformat_minor": 2
}
