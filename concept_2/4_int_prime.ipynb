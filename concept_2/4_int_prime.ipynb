{
 "cells": [
  {
   "cell_type": "markdown",
   "metadata": {},
   "source": [
    "Given a positive integer, find out if it’s prime or not."
   ]
  },
  {
   "cell_type": "code",
   "execution_count": 4,
   "metadata": {},
   "outputs": [
    {
     "name": "stdout",
     "output_type": "stream",
     "text": [
      "num = 1\n",
      "1 is not prime number.\n"
     ]
    }
   ],
   "source": [
    "# method 1\n",
    "# taking num as input\n",
    "num = int(input(\"Enter positive number\"))\n",
    "print(\"num =\",num)\n",
    "if num > 1:\n",
    "    n = int(num**0.5)+1                       # upper range value to check if number is completely divisible till it.\n",
    "    for x in range(2,n): \n",
    "        if num%x == 0:\n",
    "            print(num,\"is not prime number.\")\n",
    "        else:\n",
    "            print(num,\"is prime number\")\n",
    "else:                                         # for case: '1' here as positive integer is only allowed\n",
    "    print(num,\"is not prime number.\")\n"
   ]
  },
  {
   "cell_type": "code",
   "execution_count": 5,
   "metadata": {},
   "outputs": [
    {
     "data": {
      "text/plain": [
       "(1, 'is not prime number.')"
      ]
     },
     "execution_count": 5,
     "metadata": {},
     "output_type": "execute_result"
    }
   ],
   "source": [
    "# method 2 (by function)\n",
    "def fun_prime(num):\n",
    "#The function takes a number as input and stores it in the variable num. \n",
    "    if num > 1:\n",
    "        n = int(num**0.5)+1              # upper range value to check if number is completely divisible till it.\n",
    "        for x in range(2,n):\n",
    "            if num%x == 0:\n",
    "                return num,\"is not prime number.\"\n",
    "            else:\n",
    "                return num,\"is prime number\"\n",
    "    else:                                # for case: '1' here as positive integer is only allowed\n",
    "        return num,\"is not prime number.\"\n",
    "    \n",
    "\n",
    "fun_prime(1)\n",
    "    \n",
    "\n"
   ]
  },
  {
   "cell_type": "code",
   "execution_count": 6,
   "metadata": {},
   "outputs": [
    {
     "data": {
      "text/plain": [
       "(5, 'is prime number')"
      ]
     },
     "execution_count": 6,
     "metadata": {},
     "output_type": "execute_result"
    }
   ],
   "source": [
    "#check here\n",
    "fun_prime(5)"
   ]
  }
 ],
 "metadata": {
  "kernelspec": {
   "display_name": "Python 3",
   "language": "python",
   "name": "python3"
  },
  "language_info": {
   "codemirror_mode": {
    "name": "ipython",
    "version": 3
   },
   "file_extension": ".py",
   "mimetype": "text/x-python",
   "name": "python",
   "nbconvert_exporter": "python",
   "pygments_lexer": "ipython3",
   "version": "3.11.4"
  }
 },
 "nbformat": 4,
 "nbformat_minor": 2
}
