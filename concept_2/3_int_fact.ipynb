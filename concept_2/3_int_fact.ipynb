{
 "cells": [
  {
   "cell_type": "markdown",
   "metadata": {},
   "source": [
    "Given a positive integer, find out its factorial."
   ]
  },
  {
   "cell_type": "code",
   "execution_count": 4,
   "metadata": {},
   "outputs": [
    {
     "name": "stdout",
     "output_type": "stream",
     "text": [
      "num = 1\n",
      "factorial = 1\n"
     ]
    }
   ],
   "source": [
    "# method 1\n",
    "# taking num as input\n",
    "num = int(input(\"Enter positive integer\"))\n",
    "print(\"num =\",num)\n",
    "# we need to find factorial of num.\n",
    "fact = 1\n",
    "for x in range(2,num+1):\n",
    "    fact = fact*x\n",
    "print(\"factorial =\",fact)\n"
   ]
  },
  {
   "cell_type": "code",
   "execution_count": 5,
   "metadata": {},
   "outputs": [],
   "source": [
    "# method 2 (by function)\n",
    "def fun_fact(num):\n",
    "#The function takes a number as input and stores it in the variable num. \n",
    "# we need to find factorial of num.\n",
    "    fact = 1\n",
    "    for x in range(2,num+1):\n",
    "        fact = fact*x\n",
    "    return fact"
   ]
  },
  {
   "cell_type": "code",
   "execution_count": 6,
   "metadata": {},
   "outputs": [
    {
     "data": {
      "text/plain": [
       "362880"
      ]
     },
     "execution_count": 6,
     "metadata": {},
     "output_type": "execute_result"
    }
   ],
   "source": [
    "#check here\n",
    "fun_fact(9)"
   ]
  },
  {
   "cell_type": "code",
   "execution_count": null,
   "metadata": {},
   "outputs": [],
   "source": []
  }
 ],
 "metadata": {
  "kernelspec": {
   "display_name": "Python 3",
   "language": "python",
   "name": "python3"
  },
  "language_info": {
   "codemirror_mode": {
    "name": "ipython",
    "version": 3
   },
   "file_extension": ".py",
   "mimetype": "text/x-python",
   "name": "python",
   "nbconvert_exporter": "python",
   "pygments_lexer": "ipython3",
   "version": "3.11.4"
  }
 },
 "nbformat": 4,
 "nbformat_minor": 2
}
