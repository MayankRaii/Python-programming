{
 "cells": [
  {
   "cell_type": "markdown",
   "metadata": {},
   "source": [
    "Given a list of numbers, find out the index of another given number."
   ]
  },
  {
   "cell_type": "code",
   "execution_count": 17,
   "metadata": {},
   "outputs": [],
   "source": [
    "def fun_index(lst):\n",
    "    # The function takes a number as input and stores it in the variable num. \n",
    "    num=int(input(\"Enter a number\"))\n",
    "    count=0\n",
    "    for x in lst:\n",
    "        count=count+1\n",
    "        # When x is equal to num print its index \n",
    "        if x==num:\n",
    "            print(\"index value of\",num,\"is :\",count-1) \n",
    "    "
   ]
  },
  {
   "cell_type": "code",
   "execution_count": 18,
   "metadata": {},
   "outputs": [
    {
     "name": "stdout",
     "output_type": "stream",
     "text": [
      "index value of 5 is : 4\n",
      "index value of 5 is : 10\n"
     ]
    }
   ],
   "source": [
    "#check here\n",
    "fun_index([1,2,3,4,5,6,7,8,90,100,5])"
   ]
  }
 ],
 "metadata": {
  "kernelspec": {
   "display_name": "Python 3",
   "language": "python",
   "name": "python3"
  },
  "language_info": {
   "codemirror_mode": {
    "name": "ipython",
    "version": 3
   },
   "file_extension": ".py",
   "mimetype": "text/x-python",
   "name": "python",
   "nbconvert_exporter": "python",
   "pygments_lexer": "ipython3",
   "version": "3.11.4"
  }
 },
 "nbformat": 4,
 "nbformat_minor": 2
}
