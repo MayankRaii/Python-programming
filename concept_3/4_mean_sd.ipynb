{
 "cells": [
  {
   "cell_type": "markdown",
   "metadata": {},
   "source": [
    "Given a list of numbers, find out the mean and standard deviation."
   ]
  },
  {
   "cell_type": "code",
   "execution_count": 1,
   "metadata": {},
   "outputs": [],
   "source": [
    "def fun_mean_sd(lst):\n",
    "    # The function takes a list as input and stores it in the variable lst. \n",
    "    count = 0\n",
    "    sum_num = 0\n",
    "    # Iterating over given list using \"for loop\" and checking for count and sum.\n",
    "    for x in lst:\n",
    "        count = count + 1\n",
    "        sum_num = sum_num + x\n",
    "    if count==0:\n",
    "        return False,\"mean and standard deviation are not exist\"\n",
    "    else:\n",
    "        mean = sum_num/count\n",
    "        sum_main = 0\n",
    "        for i in lst:\n",
    "            sum_main=sum_main+(mean-i)**2\n",
    "        st_dev=(sum_main/count)**0.5\n",
    "        return \"mean =\",mean,\"standard deviation =\",st_dev"
   ]
  },
  {
   "cell_type": "code",
   "execution_count": 2,
   "metadata": {},
   "outputs": [
    {
     "data": {
      "text/plain": [
       "('mean =', 3.5, 'standard deviation =', 1.707825127659933)"
      ]
     },
     "execution_count": 2,
     "metadata": {},
     "output_type": "execute_result"
    }
   ],
   "source": [
    "#check here\n",
    "fun_mean_sd([1,2,3,4,5,6])"
   ]
  },
  {
   "cell_type": "code",
   "execution_count": 3,
   "metadata": {},
   "outputs": [
    {
     "data": {
      "text/plain": [
       "(False, 'mean and standard deviation are not exist')"
      ]
     },
     "execution_count": 3,
     "metadata": {},
     "output_type": "execute_result"
    }
   ],
   "source": [
    "#check here\n",
    "fun_mean_sd([])"
   ]
  }
 ],
 "metadata": {
  "kernelspec": {
   "display_name": "Python 3",
   "language": "python",
   "name": "python3"
  },
  "language_info": {
   "codemirror_mode": {
    "name": "ipython",
    "version": 3
   },
   "file_extension": ".py",
   "mimetype": "text/x-python",
   "name": "python",
   "nbconvert_exporter": "python",
   "pygments_lexer": "ipython3",
   "version": "3.11.4"
  }
 },
 "nbformat": 4,
 "nbformat_minor": 2
}
