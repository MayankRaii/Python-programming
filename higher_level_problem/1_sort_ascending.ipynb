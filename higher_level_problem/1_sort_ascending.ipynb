{
 "cells": [
  {
   "cell_type": "markdown",
   "metadata": {},
   "source": [
    "Given a list of numbers, sort it in ascending order."
   ]
  },
  {
   "cell_type": "code",
   "execution_count": 3,
   "metadata": {},
   "outputs": [
    {
     "name": "stdout",
     "output_type": "stream",
     "text": [
      "[-50, 0, 10, 15, 20, 30, 35, 40, 100, 110, 200]\n"
     ]
    }
   ],
   "source": [
    "\n",
    "lst = [10,100,20,30,15,40,35,200,110,0,-50]\n",
    "len_lst = len(lst)\n",
    "# Run for loop to upto length of the list..\n",
    "# I will be using it as index value..\n",
    "for x in range(len_lst):  \n",
    "    # for loop  to check the order taking two numbers at a time.    \n",
    "    for y in range(x+1,len_lst): \n",
    "         # to escape the 1st number during comparing as 1st is already taken.\n",
    "        if lst[x] > lst[y]:  \n",
    "            # if first number is greater then we will swap with each other.\n",
    "            # list is sorted using swaping technique\n",
    "            a = lst[x]\n",
    "            b = lst[y]\n",
    "            lst[y] = a\n",
    "            lst[x] = b\n",
    "print(lst)          # sorted list "
   ]
  }
 ],
 "metadata": {
  "kernelspec": {
   "display_name": "Python 3",
   "language": "python",
   "name": "python3"
  },
  "language_info": {
   "codemirror_mode": {
    "name": "ipython",
    "version": 3
   },
   "file_extension": ".py",
   "mimetype": "text/x-python",
   "name": "python",
   "nbconvert_exporter": "python",
   "pygments_lexer": "ipython3",
   "version": "3.11.4"
  }
 },
 "nbformat": 4,
 "nbformat_minor": 2
}
