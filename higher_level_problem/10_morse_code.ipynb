{
 "cells": [
  {
   "cell_type": "code",
   "execution_count": 14,
   "metadata": {},
   "outputs": [],
   "source": [
    "# first we creat a morse_dict as variable name dictionary\n",
    "morse_code_dict={'A':'.-', 'B':'-...', 'C':'-.-.', 'D':'-..', 'E':'.', 'F':'..-.',\n",
    "            'G':'--.', 'H':'....', 'I':'..', 'J':'.---', 'K':'-.-', 'L':'.-..',\n",
    "            'M':'--', 'N':'-.', 'O':'---', 'P':'.--.', 'Q':'--.-', 'R':'.-.', \n",
    "            'S':'...', 'T':'-', 'U':'..-', 'V':'...-', 'W':'.--', 'X':'-..-', \n",
    "            'Y':'-.--', 'Z':'--..', '1':'.----', '2':'..---', '3':'...--', \n",
    "            '4':'....-', '5':'.....', '6':'-....', '7':'--...', '8':'---..', \n",
    "            '9':'----.', '0':'-----', ', ':'--..--', '.':'.-.-.-', '?':'..--..',\n",
    "             '/':'-..-.', '-':'-....-', '(':'-.--.', ')':'-.--.-'}\n",
    "\n",
    "# this code for change string into morse code\n",
    "def encrypt(eng_txt_1):   \n",
    "    eng_txt_1=eng_txt_1.upper()\n",
    "    code1=''\n",
    "    # morse_dict taken from the google to easily express\n",
    "    for i in eng_txt_1:\n",
    "            if i!=' ':\n",
    "                code1+=(morse_code_dict[i]+' ')\n",
    "            else:\n",
    "                code1+='/ '  #it is use to denote space       \n",
    "    return code1\n",
    "\n",
    "# this code change morse code into string\n",
    "def decrypt(eng_txt_2):\n",
    "\n",
    "    code_lst=eng_txt_2.split()\n",
    "    code2=''\n",
    "    code_dict={} #code_dict is use to store swapping of key and value for easy to access \n",
    "    # we need to swap key, values for decode\n",
    "    for key,value in morse_code_dict.items():\n",
    "        key,value=key,value,\n",
    "        code_dict[value]=key\n",
    "    \n",
    "    for i in code_lst:\n",
    "        if i=='/':     # whitespace\n",
    "            code2+=' '\n",
    "        else:\n",
    "            code2+=code_dict[i]  # here we access value from the key  \n",
    "    return code2"
   ]
  },
  {
   "cell_type": "code",
   "execution_count": 15,
   "metadata": {},
   "outputs": [
    {
     "data": {
      "text/plain": [
       "'.... . .-.. .-.. --- / -- .- -.-- .- -. -.- / .-. .- .. ..--- ----- ----- ....- '"
      ]
     },
     "execution_count": 15,
     "metadata": {},
     "output_type": "execute_result"
    }
   ],
   "source": [
    "#check here\n",
    "encrypt(\"Hello Mayank Rai2004\")"
   ]
  },
  {
   "cell_type": "code",
   "execution_count": 16,
   "metadata": {},
   "outputs": [
    {
     "data": {
      "text/plain": [
       "'HELLO MAYANK RAI2004'"
      ]
     },
     "execution_count": 16,
     "metadata": {},
     "output_type": "execute_result"
    }
   ],
   "source": [
    "#check here\n",
    "decrypt('.... . .-.. .-.. --- / -- .- -.-- .- -. -.- / .-. .- .. ..--- ----- ----- ....- ')"
   ]
  }
 ],
 "metadata": {
  "kernelspec": {
   "display_name": "Python 3",
   "language": "python",
   "name": "python3"
  },
  "language_info": {
   "codemirror_mode": {
    "name": "ipython",
    "version": 3
   },
   "file_extension": ".py",
   "mimetype": "text/x-python",
   "name": "python",
   "nbconvert_exporter": "python",
   "pygments_lexer": "ipython3",
   "version": "3.11.4"
  }
 },
 "nbformat": 4,
 "nbformat_minor": 2
}
