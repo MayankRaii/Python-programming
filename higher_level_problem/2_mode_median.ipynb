{
 "cells": [
  {
   "cell_type": "markdown",
   "metadata": {},
   "source": [
    "Given a list of numbers, find out the median and mode."
   ]
  },
  {
   "cell_type": "code",
   "execution_count": 3,
   "metadata": {},
   "outputs": [
    {
     "name": "stdout",
     "output_type": "stream",
     "text": [
      "ordered list : [10, 10, 10, 10, 20, 20, 30, 30, 30, 40, 50, 60]\n",
      "median is: 25.0\n",
      "mode is : 10\n"
     ]
    }
   ],
   "source": [
    "lst11 = [10,30,10,20,30,40,10,20,30,50,60,10,]\n",
    "# for median of the given list:\n",
    "len_lst11 = len(lst11)\n",
    "for x in range(len_lst11):\n",
    "    for y in range(x+1,len_lst11):\n",
    "        if lst11[x] > lst11[y]:\n",
    "            # list is sorted using swaping technique\n",
    "            a = lst11[x]\n",
    "            b = lst11[y]\n",
    "            lst11[y] = a\n",
    "            lst11[x] = b\n",
    "print(\"ordered list :\",lst11)\n",
    "if len_lst11%2==0:  # if length is even number then two middle numbers are present.\n",
    "    median=((lst11[len_lst11//2])+lst11[((len_lst11//2)-1)])/2\n",
    "    # adding both numbers and dividing by 2 will be median.\n",
    "    print(\"median is:\",median)\n",
    "else:  # if length is odd number then middle most number will be median.\n",
    "   median=lst11[(len_lst11+1)//2]\n",
    "   print(\"median is:\",median)\n",
    "# for mode of the given list:\n",
    "dict1 = {}       # creating empty dictionary to store number of list and its occurance.\n",
    "for x in lst11:\n",
    "    count = 0\n",
    "    for y in lst11:\n",
    "        if x==y:\n",
    "            count = count+1\n",
    "    dict1[x]=count\n",
    "\n",
    "freq = []                   # creating empty list to store all values of dictionary.\n",
    "for value in dict1.values():\n",
    "    freq.append(value)\n",
    "\n",
    "max_freq = freq[0]        # initialise first number of list as max_freq to compare.\n",
    "for i in freq:\n",
    "    if max_freq < i:\n",
    "        max_freq = i         # to get original max_value in the value_list.\n",
    "\n",
    "for key,value in dict1.items():\n",
    "    if value == max_freq:\n",
    "        mode = key\n",
    "        print(\"mode is :\",mode)"
   ]
  }
 ],
 "metadata": {
  "kernelspec": {
   "display_name": "Python 3",
   "language": "python",
   "name": "python3"
  },
  "language_info": {
   "codemirror_mode": {
    "name": "ipython",
    "version": 3
   },
   "file_extension": ".py",
   "mimetype": "text/x-python",
   "name": "python",
   "nbconvert_exporter": "python",
   "pygments_lexer": "ipython3",
   "version": "3.11.4"
  }
 },
 "nbformat": 4,
 "nbformat_minor": 2
}
