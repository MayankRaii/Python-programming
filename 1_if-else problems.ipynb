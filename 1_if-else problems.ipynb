{
 "cells": [
  {
   "cell_type": "markdown",
   "metadata": {},
   "source": [
    "(1). Given two numbers a and b, find ratio a/b (b couldn't be zero)"
   ]
  },
  {
   "cell_type": "code",
   "execution_count": 6,
   "metadata": {},
   "outputs": [
    {
     "name": "stdout",
     "output_type": "stream",
     "text": [
      "78\n",
      "2\n",
      "Your answer is: 39.0\n"
     ]
    }
   ],
   "source": [
    "a = int(input(\"Enter first no.\"))\n",
    "b = int(input(\"Enter second no.\"))\n",
    "print(a)\n",
    "print(b)\n",
    "if b==0:\n",
    "    print(\"you can't divied\") \n",
    "else:\n",
    "    c=a/b\n",
    "    print(\"Your answer is:\",c)"
   ]
  },
  {
   "cell_type": "markdown",
   "metadata": {},
   "source": [
    "#\n",
    "(2). Given a point in 2D space, find the quadrant in which it lies. "
   ]
  },
  {
   "cell_type": "code",
   "execution_count": 7,
   "metadata": {},
   "outputs": [
    {
     "name": "stdout",
     "output_type": "stream",
     "text": [
      "(-89, -45)\n",
      "(a,b) = (-89, -45)  is at third quadrant\n"
     ]
    }
   ],
   "source": [
    "a = int(input(\"Enter point of x axis\"))\n",
    "b = int(input(\"Enter point of y axis\"))\n",
    "c = (a,b)\n",
    "print(c)\n",
    "if a == 0 and b == 0:\n",
    "    print(\"(a,b) =\",c,\"is at origin\")\n",
    "elif a == 0 and b > 0:\n",
    "    print(\"(a,b) =\",c,\" is at +Y axis\" )\n",
    "elif a == 0 and b < 0:\n",
    "    print(\"(a,b) =\",c,\" is at -Y axis\")\n",
    "elif a > 0 and b == 0:\n",
    "    print(\"(a,b) =\",c,\" is at +X axis\" )\n",
    "elif a < 0 and b == 0:\n",
    "    print(\"(a,b) =\",c,\" is at -X axis\")\n",
    "elif a > 0 and b > 0:\n",
    "    print(\"(a,b) =\",c,\" is at first quadrant\" )\n",
    "elif a < 0 and b >0:\n",
    "    print(\"(a,b) =\",c,\" is at second quadrant\")\n",
    "elif  a < 0 and b < 0:\n",
    "    print(\"(a,b) =\",c,\" is at third quadrant\" )\n",
    "else :\n",
    "    print(\"(a,b) =\",c,\" is at fourth quadrant\")\n"
   ]
  },
  {
   "cell_type": "markdown",
   "metadata": {},
   "source": [
    "\n",
    "(3). Given two points in 2D space, find the slope and y-intercept of the line joining them. Consider all cases"
   ]
  },
  {
   "cell_type": "code",
   "execution_count": 8,
   "metadata": {},
   "outputs": [
    {
     "name": "stdout",
     "output_type": "stream",
     "text": [
      "Slope is : 5.0\n",
      "Y intercept is : 25.0\n"
     ]
    }
   ],
   "source": [
    "x1 = int(input(\"Enter X1 point\"))\n",
    "x2 = int(input(\"Enter X2 point\"))\n",
    "y1 = int(input(\"Enter Y1 point\"))\n",
    "y2= int(input(\"Enter Y2 point\"))\n",
    "b =  y2-y1\n",
    "a =  x2-x1\n",
    "\n",
    "if a == 0:\n",
    "    print(\"Slope is infinity\\nY intercept is also infinity\")\n",
    "else: \n",
    "    M = b/a\n",
    "    print(\"Slope is :\", M)\n",
    "    C= y1-M*x1\n",
    "    print(\"Y intercept is :\" , C)"
   ]
  },
  {
   "cell_type": "markdown",
   "metadata": {},
   "source": [
    "4. Given a temperature in Fahrenheit, convert it to Celsius. If the temperature is below 10 degree celcius output cold, between 10 and 25 output pleasant, between 25 and 35 output warm, and above 35 output hot."
   ]
  },
  {
   "cell_type": "code",
   "execution_count": 9,
   "metadata": {},
   "outputs": [
    {
     "name": "stdout",
     "output_type": "stream",
     "text": [
      "37.22222222222222\n",
      "hot\n"
     ]
    }
   ],
   "source": [
    "### C/5= F-32/9\n",
    "F = int(input(\"tempreture in fahrenheit\"))\n",
    "C = 5*(F-32)/9\n",
    "print(C)\n",
    "if C < 10:\n",
    "    print(\"cold\")\n",
    "elif 10 <= C < 25:\n",
    "    print(\"pleasant\")\n",
    "elif 25 <= C <= 35:\n",
    "    print(\"warm\")\n",
    "else:\n",
    "    C> 35\n",
    "    print(\"hot\")"
   ]
  },
  {
   "cell_type": "markdown",
   "metadata": {},
   "source": [
    "5. Given a quadratic equation with coefficients a, b and c, find the two solutions (may be real or complex). You should not take the square root of a negative number in your code."
   ]
  },
  {
   "cell_type": "code",
   "execution_count": 13,
   "metadata": {},
   "outputs": [
    {
     "name": "stdout",
     "output_type": "stream",
     "text": [
      "4\n",
      "roots are real\n",
      "first roots is : 5.0\n",
      "Second roots is : 3.0\n"
     ]
    }
   ],
   "source": [
    "### ax**2+bx+c=0\n",
    "a=int(input(\"coff. of x**2\"))\n",
    "b=int(input(\"coff. of x\"))\n",
    "c=int(input(\"constant\"))\n",
    "#roots are\n",
    "D = (b**2)-(4*a*c)\n",
    "print(D)\n",
    "if D >= 0:\n",
    "    print(\"roots are real\")\n",
    "    M = ((-b) + (D**0.5))/ (2*a)\n",
    "    N = ((-b) - (D**0.5))/ (2*a)\n",
    "    print(\"first roots is :\", M)\n",
    "    print(\"Second roots is :\", N)\n",
    "else : \n",
    "    D < 0\n",
    "    print(\"roots are complex\")\n"
   ]
  },
  {
   "cell_type": "markdown",
   "metadata": {},
   "source": [
    "6. Given three points, find out whether they lie on the same straight line or not."
   ]
  },
  {
   "cell_type": "code",
   "execution_count": 14,
   "metadata": {},
   "outputs": [
    {
     "name": "stdout",
     "output_type": "stream",
     "text": [
      "1 2 3 4 5 6  are same line\n"
     ]
    }
   ],
   "source": [
    "x1=int(input(\"point no. X1\"))\n",
    "x2=int(input(\"point no. X2\"))\n",
    "x3=int(input(\"point no. X3\"))\n",
    "y1=int(input(\"point no. Y1\"))\n",
    "y2=int(input(\"point no. Y2\"))\n",
    "y3=int(input(\"point no. Y3\"))\n",
    "T = x1*(y2-y3)+x2*(y3-y1)+x3*(y1-y2)\n",
    "if T==0:\n",
    "    print(x1,x2,x3,y1,y2,y3,\" are same line\")\n",
    "else :\n",
    "    print(x1,x2,x3,y1,y2,y3,\" are not same line\")"
   ]
  },
  {
   "cell_type": "code",
   "execution_count": null,
   "metadata": {},
   "outputs": [],
   "source": []
  }
 ],
 "metadata": {
  "kernelspec": {
   "display_name": "Python 3",
   "language": "python",
   "name": "python3"
  },
  "language_info": {
   "codemirror_mode": {
    "name": "ipython",
    "version": 3
   },
   "file_extension": ".py",
   "mimetype": "text/x-python",
   "name": "python",
   "nbconvert_exporter": "python",
   "pygments_lexer": "ipython3",
   "version": "3.11.4"
  }
 },
 "nbformat": 4,
 "nbformat_minor": 2
}
