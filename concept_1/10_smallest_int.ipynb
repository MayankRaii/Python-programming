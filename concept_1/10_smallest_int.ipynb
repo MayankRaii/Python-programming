{
 "cells": [
  {
   "cell_type": "markdown",
   "metadata": {},
   "source": [
    "Given three integers, find the smallest one."
   ]
  },
  {
   "cell_type": "code",
   "execution_count": 6,
   "metadata": {},
   "outputs": [
    {
     "name": "stdout",
     "output_type": "stream",
     "text": [
      "num1 = 3 num2 = 5 num3  equal but= 3\n",
      "num1 and num3 are equal but smaller\n"
     ]
    }
   ],
   "source": [
    "# method 1\n",
    "# taking num1, num2 and num3 as input\n",
    "num1 = int(input(\"Enter first number\"))        \n",
    "num2 = int(input(\"Enter second number\"))\n",
    "num3 = int(input(\"Enter third number\"))\n",
    "print(\"num1 =\",num1,\"num2 =\",num2,\"num3  equal but=\",num3)\n",
    "\n",
    "# this is whole conditions for numbers that which is smaller. \n",
    "if num1 == num2 and num1 == num3:\n",
    "    print(\"num1,num2,num3 are equal\")\n",
    "elif num1 == num2 and num1 != num3:\n",
    "    if num1 < num3:\n",
    "        print(\"num1 and num2 are equal but smaller\")   \n",
    "    else:                                        # here num1 > num3\n",
    "        print(\"num3 is smaller\")  \n",
    "elif num1 == num3 and num1 != num2:\n",
    "    if num1 < num2:\n",
    "        print(\"num1 and num3 are equal but smaller\")   \n",
    "    else:                                        # here num1 > num2\n",
    "        print(\"num2 is smaller\")   \n",
    "elif num2 == num3 and num2 != num1:  \n",
    "    if num2 < num1:\n",
    "        print(\"num2 and num3 are equal but smaller\")   \n",
    "    else:                                        # here num2 > num1\n",
    "        print(\"num1 is smaller\")\n",
    "else:\n",
    "    if num1 < num2 and num1 < num3:\n",
    "        print(\"num1 is smaller\")\n",
    "    elif num2 < num3:\n",
    "        print(\"num2 is smaller\")\n",
    "    else:                                        # here num2 > num3\n",
    "        print(\"num3 is smaller\")   \n",
    "\n",
    "\n",
    "\n"
   ]
  },
  {
   "cell_type": "code",
   "execution_count": 8,
   "metadata": {},
   "outputs": [],
   "source": [
    "# method 2 (by function)\n",
    "#The function takes three points as input and stores it in the variable num1, num2 and num3. \n",
    "def fun_smaller(num1,num2,num3):\n",
    "    # this is whole conditions for numbers that which is smaller. \n",
    "    if num1 == num2 and num1 == num3:\n",
    "        return \"num1,num2,num3 are equal\"\n",
    "    elif num1 == num2 and num1 != num3:\n",
    "        if num1 < num3:\n",
    "            return \"num1 and num2 are equal but smaller\"   \n",
    "        else:                                     # here num1 > num3\n",
    "            return \"num3 is smaller\"  \n",
    "    elif num1 == num3 and num1 != num2:\n",
    "        if num1 < num2:\n",
    "            return \"num1 and num3 are equal but smaller\"   \n",
    "        else:                                     # here num1 > num2\n",
    "            return \"num2 is smaller\"   \n",
    "    elif num2 == num3 and num2 != num1:\n",
    "        if num2 < num1:\n",
    "            return \"num2 and num3 are equal but smaller\"   \n",
    "        else:                                     # here num2 > num1\n",
    "            return \"num1 is smaller\"\n",
    "    else:\n",
    "        if num1 < num2 and num1 < num3:\n",
    "            return \"num1 is smaller\"\n",
    "        elif num2 < num3:\n",
    "            return \"num2 is smaller\"\n",
    "        else:                                     # here num2 > num3\n",
    "            return \"num3 is smaller\"   \n",
    "    "
   ]
  },
  {
   "cell_type": "code",
   "execution_count": 9,
   "metadata": {},
   "outputs": [
    {
     "data": {
      "text/plain": [
       "'num1 and num3 are equal but smaller'"
      ]
     },
     "execution_count": 9,
     "metadata": {},
     "output_type": "execute_result"
    }
   ],
   "source": [
    "#check here\n",
    "fun_smaller(3,5,3)"
   ]
  }
 ],
 "metadata": {
  "kernelspec": {
   "display_name": "Python 3",
   "language": "python",
   "name": "python3"
  },
  "language_info": {
   "codemirror_mode": {
    "name": "ipython",
    "version": 3
   },
   "file_extension": ".py",
   "mimetype": "text/x-python",
   "name": "python",
   "nbconvert_exporter": "python",
   "pygments_lexer": "ipython3",
   "version": "3.11.4"
  }
 },
 "nbformat": 4,
 "nbformat_minor": 2
}
