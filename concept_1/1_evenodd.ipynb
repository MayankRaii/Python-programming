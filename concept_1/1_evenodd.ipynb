{
 "cells": [
  {
   "cell_type": "markdown",
   "metadata": {},
   "source": [
    "Given an integer, check if it is even or odd."
   ]
  },
  {
   "cell_type": "code",
   "execution_count": 1,
   "metadata": {},
   "outputs": [
    {
     "name": "stdout",
     "output_type": "stream",
     "text": [
      "num = 123\n",
      "123 is an odd num\n"
     ]
    }
   ],
   "source": [
    "# method 1\n",
    "# taking num as input\n",
    "num = int(input(\"Enter an integer\"))\n",
    "print(\"num =\",num)\n",
    "# we check that num is even or odd \n",
    "if num%2==0:                             # num is divisible by 2 means even\n",
    "    print(num,\"is an even num\")\n",
    "else:                                    # num is not divisible by 2 means odd\n",
    "    print(num,\"is an odd num\")"
   ]
  },
  {
   "cell_type": "code",
   "execution_count": 2,
   "metadata": {},
   "outputs": [],
   "source": [
    "# method 2 (by function)\n",
    "def funevenodd(num):\n",
    "    #The function takes a number as input and stores it in the variable num    \n",
    "    #Now we need to check if num is an even or odd \n",
    "    #And stored the result in a new variable                                  \n",
    "    if num%2==0:    \n",
    "        #number is an even             \n",
    "        evenodd=True,num, \"is an even\"  \n",
    "    else:   \n",
    "        #number is an odd            \n",
    "        evenodd=False,num, \"is an odd\"              \n",
    "    return evenodd              "
   ]
  },
  {
   "cell_type": "code",
   "execution_count": 3,
   "metadata": {},
   "outputs": [
    {
     "data": {
      "text/plain": [
       "(False, 123, 'is an odd')"
      ]
     },
     "execution_count": 3,
     "metadata": {},
     "output_type": "execute_result"
    }
   ],
   "source": [
    "#check here\n",
    "funevenodd(123)"
   ]
  }
 ],
 "metadata": {
  "kernelspec": {
   "display_name": "Python 3",
   "language": "python",
   "name": "python3"
  },
  "language_info": {
   "codemirror_mode": {
    "name": "ipython",
    "version": 3
   },
   "file_extension": ".py",
   "mimetype": "text/x-python",
   "name": "python",
   "nbconvert_exporter": "python",
   "pygments_lexer": "ipython3",
   "version": "3.11.4"
  }
 },
 "nbformat": 4,
 "nbformat_minor": 2
}
