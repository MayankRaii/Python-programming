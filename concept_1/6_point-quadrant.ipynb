{
 "cells": [
  {
   "cell_type": "markdown",
   "metadata": {},
   "source": [
    "Given a point (x1, y1), find the quadrant in which this point lies."
   ]
  },
  {
   "cell_type": "code",
   "execution_count": 1,
   "metadata": {},
   "outputs": [
    {
     "name": "stdout",
     "output_type": "stream",
     "text": [
      "(45.0, -56.0)  is at fourth quadrant\n"
     ]
    }
   ],
   "source": [
    "# method 1\n",
    "# taking x1 and y1 as input\n",
    "x1=float(input(\"Enter point for x\"))\n",
    "y1=float(input(\"Enter point for y\"))\n",
    "c=(x1,y1)                              # this is our point\n",
    "# this is whole conditions for point that which does it lie quadrant. \n",
    "if x1==0 and y1==0:\n",
    "    print(c,\"is at origin\")\n",
    "elif x1 == 0 and y1 > 0:\n",
    "    print(c,\" is at +Y axis\" )\n",
    "elif x1 == 0 and y1 < 0:\n",
    "    print(c,\" is at -Y axis\")\n",
    "elif x1 > 0 and y1 == 0:\n",
    "    print(c,\" is at +X axis\" )\n",
    "elif x1 < 0 and y1 == 0:\n",
    "    print(c,\" is at -X axis\")\n",
    "elif x1 > 0 and y1 > 0:\n",
    "    print(c,\" is at first quadrant\" )\n",
    "elif x1 < 0 and y1 >0:\n",
    "    print(c,\" is at second quadrant\")\n",
    "elif  x1 < 0 and y1 < 0:\n",
    "    print(c,\" is at third quadrant\" )\n",
    "else :                                 #here x1>0 and y1<0\n",
    "    print(c,\" is at fourth quadrant\")\n",
    "\n",
    "    \n"
   ]
  },
  {
   "cell_type": "code",
   "execution_count": 2,
   "metadata": {},
   "outputs": [],
   "source": [
    "# method 2 (by function)\n",
    "#The function takes two points as input and stores it in the variable x1 and y1. \n",
    "def fun_point(x1,y1):\n",
    "    c=(x1,y1)             # this is our point\n",
    "    # this is whole conditions for point that which does it lie quadrant. \n",
    "    if x1==0 and y1==0:\n",
    "        output = c,\" is at origin\"\n",
    "    elif x1 == 0 and y1 > 0:\n",
    "        output = c,\" is at +Y axis\" \n",
    "    elif x1 == 0 and y1 < 0:\n",
    "        output = c,\" is at -Y axis\"\n",
    "    elif x1 > 0 and y1 == 0:\n",
    "        output = c,\" is at +X axis\" \n",
    "    elif x1 < 0 and y1 == 0:\n",
    "        output = c,\" is at -X axis\"\n",
    "    elif x1 > 0 and y1 > 0:\n",
    "        output = c,\" is at first quadrant\" \n",
    "    elif x1 < 0 and y1 >0:\n",
    "        output = c,\" is at second quadrant\"\n",
    "    elif  x1 < 0 and y1 < 0:\n",
    "        output = c,\" is at third quadrant\" \n",
    "    else :                                     #here x1>0 and y1<0\n",
    "        output = c,\" is at fourth quadrant\"\n",
    "    \n",
    "    return output\n"
   ]
  },
  {
   "cell_type": "code",
   "execution_count": 3,
   "metadata": {},
   "outputs": [
    {
     "data": {
      "text/plain": [
       "((45, -56), ' is at fourth quadrant')"
      ]
     },
     "execution_count": 3,
     "metadata": {},
     "output_type": "execute_result"
    }
   ],
   "source": [
    "#check here\n",
    "fun_point(45,-56)"
   ]
  }
 ],
 "metadata": {
  "kernelspec": {
   "display_name": "Python 3",
   "language": "python",
   "name": "python3"
  },
  "language_info": {
   "codemirror_mode": {
    "name": "ipython",
    "version": 3
   },
   "file_extension": ".py",
   "mimetype": "text/x-python",
   "name": "python",
   "nbconvert_exporter": "python",
   "pygments_lexer": "ipython3",
   "version": "3.11.4"
  }
 },
 "nbformat": 4,
 "nbformat_minor": 2
}
