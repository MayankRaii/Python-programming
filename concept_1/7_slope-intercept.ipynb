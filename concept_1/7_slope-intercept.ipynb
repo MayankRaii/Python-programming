{
 "cells": [
  {
   "cell_type": "markdown",
   "metadata": {},
   "source": [
    "Given two points (x1, y1) and (x2, y2), find the slope and intercept of the line joining these two points (the line may be perfectly horizontal or vertical)."
   ]
  },
  {
   "cell_type": "code",
   "execution_count": 1,
   "metadata": {},
   "outputs": [
    {
     "name": "stdout",
     "output_type": "stream",
     "text": [
      "(5.0, 9.0) (10.0, 18.0)\n",
      "Slope is : 1.8\n",
      "Y intercept is : 0.0\n"
     ]
    }
   ],
   "source": [
    "# method 1\n",
    "# taking x1, y1, x2 and y2 as input\n",
    "x1 = float(input(\"Enter X1 point\"))\n",
    "y1 = float(input(\"Enter Y1 point\"))\n",
    "x2 = float(input(\"Enter X2 point\"))\n",
    "y2 = float(input(\"Enter Y2 point\"))\n",
    "p1=(x1,y1)                          #this is our first point\n",
    "p2=(x2,y2)                          #this is our second point\n",
    "print(p1,p2)\n",
    "a =  y2-y1                          \n",
    "b =  x2-x1                          \n",
    "\n",
    "if b != 0:                          #if b is not equal to 0 then slope and intercept define.\n",
    "    M = a/b                         \n",
    "    print(\"Slope is :\", M)\n",
    "    C = y2-(M*x2)                   #it comes from (y = M*x + C) here M=Slope; C=intercept; x and y are point.\n",
    "    print(\"Y intercept is :\" , C)\n",
    "else:                               #if b is not equal to 0 then slope and intercept are not define.\n",
    "    print(\"Slope is not define \\nY intercept is also not define\")\n",
    "    "
   ]
  },
  {
   "cell_type": "code",
   "execution_count": 2,
   "metadata": {},
   "outputs": [],
   "source": [
    "# method 2 (by function)\n",
    "#The function takes four points as input and stores it in the variable x1, y1, x2 and y2. \n",
    "def fun_point(x1,y1,x2,y2):\n",
    "    a =  y2-y1\n",
    "    b =  x2-x1\n",
    "\n",
    "    if b != 0:                #if b is not equal to 0 then slope and intercept are define.\n",
    "        M = a/b\n",
    "        C = y2-(M*x2)         #it comes from (y = M*x + C) here M=Slope; C=intercept; x and y are point.\n",
    "        output = True,\"Slope is :\",M,\"and y-intercept is :\",C\n",
    "    else:                     #if b is equal to 0 then slope and intercept are not define.\n",
    "        output = False,\"Slope is not define and y-intercept is also not define\"\n",
    "    return output\n",
    "       "
   ]
  },
  {
   "cell_type": "code",
   "execution_count": 3,
   "metadata": {},
   "outputs": [
    {
     "data": {
      "text/plain": [
       "(True, 'Slope is :', 1.8, 'and y-intercept is :', 0.0)"
      ]
     },
     "execution_count": 3,
     "metadata": {},
     "output_type": "execute_result"
    }
   ],
   "source": [
    "#check here\n",
    "fun_point(5,9,10,18) "
   ]
  }
 ],
 "metadata": {
  "kernelspec": {
   "display_name": "Python 3",
   "language": "python",
   "name": "python3"
  },
  "language_info": {
   "codemirror_mode": {
    "name": "ipython",
    "version": 3
   },
   "file_extension": ".py",
   "mimetype": "text/x-python",
   "name": "python",
   "nbconvert_exporter": "python",
   "pygments_lexer": "ipython3",
   "version": "3.11.4"
  }
 },
 "nbformat": 4,
 "nbformat_minor": 2
}
