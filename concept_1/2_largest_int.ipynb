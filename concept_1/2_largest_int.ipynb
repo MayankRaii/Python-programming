{
 "cells": [
  {
   "cell_type": "markdown",
   "metadata": {},
   "source": [
    "Given two integers, find the larger one."
   ]
  },
  {
   "cell_type": "code",
   "execution_count": 1,
   "metadata": {},
   "outputs": [
    {
     "name": "stdout",
     "output_type": "stream",
     "text": [
      "num1 = 50 and num2 = -80\n",
      "50 is the largest\n"
     ]
    }
   ],
   "source": [
    "# method 1\n",
    "# taking num1 and num2 as input\n",
    "num1 = int(input(\"Enter first integer\"))\n",
    "num2 = int(input(\"Enter second integer\"))\n",
    "print(\"num1 =\",num1,\"and num2 =\",num2)\n",
    "# we check with conditions that which is the largest number.\n",
    "if num1>num2:                            # num1 is the largest\n",
    "    print(num1,\"is the largest\")\n",
    "elif num1<num2:                          # num2 is the largest\n",
    "    print(num2,\"is the largest\")\n",
    "else:                                    #both numbers are equal\n",
    "    print(\"num1 and num2 are equal\")"
   ]
  },
  {
   "cell_type": "code",
   "execution_count": 2,
   "metadata": {},
   "outputs": [],
   "source": [
    "# method 2 (by function)\n",
    "#The function takes two numbers as input and stores it in the variable num1 and num2.  \n",
    "def fun_large(num1,num2):\n",
    "    # we check with conditions that which is the number largest\n",
    "    #And stored the result in a new variable which is \"output\"\n",
    "    \n",
    "    if num1>num2:                            # num1 is the largest\n",
    "        output=True, num1,\"is the largest\"\n",
    "    elif num1<num2:                          # num2 is the largest\n",
    "        output=True,num2,\"is the largest\"\n",
    "    else:                                    # both numbers are equal\n",
    "        output=False, \"num1 and num2 are equal\"\n",
    "    return output\n"
   ]
  },
  {
   "cell_type": "code",
   "execution_count": 3,
   "metadata": {},
   "outputs": [
    {
     "data": {
      "text/plain": [
       "(True, 50, 'is the largest')"
      ]
     },
     "execution_count": 3,
     "metadata": {},
     "output_type": "execute_result"
    }
   ],
   "source": [
    "#check here\n",
    "fun_large(50,-80)"
   ]
  }
 ],
 "metadata": {
  "kernelspec": {
   "display_name": "Python 3",
   "language": "python",
   "name": "python3"
  },
  "language_info": {
   "codemirror_mode": {
    "name": "ipython",
    "version": 3
   },
   "file_extension": ".py",
   "mimetype": "text/x-python",
   "name": "python",
   "nbconvert_exporter": "python",
   "pygments_lexer": "ipython3",
   "version": "3.11.4"
  }
 },
 "nbformat": 4,
 "nbformat_minor": 2
}
