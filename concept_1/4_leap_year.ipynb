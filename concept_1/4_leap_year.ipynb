{
 "cells": [
  {
   "cell_type": "markdown",
   "metadata": {},
   "source": [
    "Given a year, check if it is a leap year or not. A leap year is divisible by 4, except for years that are divisible by 100. However, years that are divisible by 400 are also leap years.\n"
   ]
  },
  {
   "cell_type": "code",
   "execution_count": 1,
   "metadata": {},
   "outputs": [
    {
     "name": "stdout",
     "output_type": "stream",
     "text": [
      "year = 2024\n",
      "2024 is a leap year\n"
     ]
    }
   ],
   "source": [
    "# method 1\n",
    "# taking year as input\n",
    "year = int(input(\"Enter a year\"))\n",
    "print(\"year =\",year)\n",
    "if year%100!=0:                          #year is not divisible by 100\n",
    "    if year%4==0:                        #year is divisible by 4\n",
    "        print(year,\"is a leap year\")\n",
    "    else:                                #year is not divisible by 4\n",
    "        print(year,\"is not a leap year\")\n",
    "else:                                    #year is divisible by 100\n",
    "    if year%400==0:                      #year is divisible by 400\n",
    "        print(year,\"is a leap year\")\n",
    "    else:                                #year is not divisible by 400\n",
    "        print(year,\"is not a leap year\")\n"
   ]
  },
  {
   "cell_type": "code",
   "execution_count": 2,
   "metadata": {},
   "outputs": [],
   "source": [
    "# method 2 (by function)\n",
    "#The function takes year as input and stores it in the variable year.\n",
    "def fun_year(year):\n",
    "    if year%100!=0:                                  #year is not divisible by 100\n",
    "        if year%4==0:                                #year is divisible by 4\n",
    "            output = True,year,\"is a leap year\"\n",
    "        else:                                        #year is not divisible by 4\n",
    "            output = False,year,\"is not a leap year\"\n",
    "    else:                                            #year is divisible by 100\n",
    "        if year%400==0:                              #year is divisible by 400\n",
    "            output = True,year,\"is a leap year\"\n",
    "        else:                                        #year is divisible by 400\n",
    "            output = False,year,\"is not a leap year\"\n",
    "    return output\n",
    "\n"
   ]
  },
  {
   "cell_type": "code",
   "execution_count": 3,
   "metadata": {},
   "outputs": [
    {
     "data": {
      "text/plain": [
       "(True, 2024, 'is a leap year')"
      ]
     },
     "execution_count": 3,
     "metadata": {},
     "output_type": "execute_result"
    }
   ],
   "source": [
    "#check here\n",
    "fun_year(2024)"
   ]
  }
 ],
 "metadata": {
  "kernelspec": {
   "display_name": "Python 3",
   "language": "python",
   "name": "python3"
  },
  "language_info": {
   "codemirror_mode": {
    "name": "ipython",
    "version": 3
   },
   "file_extension": ".py",
   "mimetype": "text/x-python",
   "name": "python",
   "nbconvert_exporter": "python",
   "pygments_lexer": "ipython3",
   "version": "3.11.4"
  }
 },
 "nbformat": 4,
 "nbformat_minor": 2
}
