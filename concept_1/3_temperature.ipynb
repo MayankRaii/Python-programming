{
 "cells": [
  {
   "cell_type": "markdown",
   "metadata": {},
   "source": [
    "Given a temperature in Celsius, convert it to Fahrenheit using the formula F = (C * 1.8) + 32. If the temperature is above 90°F, print “It’s hot outside!” otherwise, print “The temperature is pleasant”."
   ]
  },
  {
   "cell_type": "code",
   "execution_count": 4,
   "metadata": {},
   "outputs": [
    {
     "name": "stdout",
     "output_type": "stream",
     "text": [
      "temperature(in celsius) = 30.0\n",
      "86.0 F The temperature is pleasant\n"
     ]
    }
   ],
   "source": [
    "# method 1\n",
    "# taking temp as input\n",
    "temp=float(input(\"temperature in celsius\"))\n",
    "print(\"temperature(in celsius) =\",temp)\n",
    "f=(temp*1.8)+32                                  #relation between Fahrenheit and Celsius \n",
    "if f>90:                                         #f(temp in Fahrenheit) greater than 90F\n",
    "    print(f,\"F\",\"It's hot outside!\")\n",
    "else:                                            #f(temp in Fahrenheit) less than or equal to 90F\n",
    "    print(f,\"F\",\"The temperature is pleasant\")"
   ]
  },
  {
   "cell_type": "code",
   "execution_count": 6,
   "metadata": {},
   "outputs": [],
   "source": [
    "# method 2 (by function)\n",
    "#The function takes temperature as input and stores it in the variable temp. \n",
    "def fun_temp(temp):                #here temp(temperature in celsius)\n",
    "    f=(temp*1.8)+32                #relation between Fahrenheit and Celsius \n",
    "    if f>90:                       #f(temp in Fahrenheit) greater than 90F\n",
    "        return True,f,\"F\",\"It's hot outside\"\n",
    "    else:                          #f(temp in Fahrenheit) less than or equal to 90F\n",
    "        return False,f,\"F\",\"The temperature is pleasant\"\n"
   ]
  },
  {
   "cell_type": "code",
   "execution_count": 7,
   "metadata": {},
   "outputs": [
    {
     "data": {
      "text/plain": [
       "(False, 86.0, 'F', 'The temperature is pleasant')"
      ]
     },
     "execution_count": 7,
     "metadata": {},
     "output_type": "execute_result"
    }
   ],
   "source": [
    "#check here\n",
    "fun_temp(30)"
   ]
  }
 ],
 "metadata": {
  "kernelspec": {
   "display_name": "Python 3",
   "language": "python",
   "name": "python3"
  },
  "language_info": {
   "codemirror_mode": {
    "name": "ipython",
    "version": 3
   },
   "file_extension": ".py",
   "mimetype": "text/x-python",
   "name": "python",
   "nbconvert_exporter": "python",
   "pygments_lexer": "ipython3",
   "version": "3.11.4"
  }
 },
 "nbformat": 4,
 "nbformat_minor": 2
}
