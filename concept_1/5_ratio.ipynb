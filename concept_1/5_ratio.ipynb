{
 "cells": [
  {
   "cell_type": "markdown",
   "metadata": {},
   "source": [
    "Given two numbers, a and b, find the value of a/b (b may be zero)."
   ]
  },
  {
   "cell_type": "code",
   "execution_count": 2,
   "metadata": {},
   "outputs": [
    {
     "name": "stdout",
     "output_type": "stream",
     "text": [
      "ratio of num 45.0 and 10.0 is : 4.5\n"
     ]
    }
   ],
   "source": [
    "# method 1\n",
    "# taking a and b as input\n",
    "a = float(input(\"Enter first number\"))\n",
    "b = float(input(\"Enter second number\"))\n",
    "if b!=0:                                 #if b is not equal to 0 then ratio is defined.\n",
    "    ratio=a/b                            # ratio of a and b\n",
    "    print(\"ratio of num\",a,\"and\",b,\"is :\",ratio)\n",
    "else:                                    # if b is equal to 0 then ratio is not defined.\n",
    "    print(\"ratio is not define\")\n"
   ]
  },
  {
   "cell_type": "code",
   "execution_count": 3,
   "metadata": {},
   "outputs": [],
   "source": [
    "# method 2 (by function)\n",
    "#The function takes two numbers as input and stores it in the variable a and b. \n",
    "def fun_ratio(a,b):\n",
    "    if b!=0:             #if b is not equal to 0 then ratio is defined.\n",
    "        ratio=a/b\n",
    "        output=True,\"ratio of num\",a,\"and\",b,\"is :\",ratio\n",
    "    else:                # if b is equal to 0 then ratio is not defined.\n",
    "        output=False,\"ratio is not define\"\n",
    "    return output\n"
   ]
  },
  {
   "cell_type": "code",
   "execution_count": 4,
   "metadata": {},
   "outputs": [
    {
     "data": {
      "text/plain": [
       "(True, 'ratio of num', 45, 'and', 10, 'is :', 4.5)"
      ]
     },
     "execution_count": 4,
     "metadata": {},
     "output_type": "execute_result"
    }
   ],
   "source": [
    "#check here\n",
    "fun_ratio(45,10)"
   ]
  }
 ],
 "metadata": {
  "kernelspec": {
   "display_name": "Python 3",
   "language": "python",
   "name": "python3"
  },
  "language_info": {
   "codemirror_mode": {
    "name": "ipython",
    "version": 3
   },
   "file_extension": ".py",
   "mimetype": "text/x-python",
   "name": "python",
   "nbconvert_exporter": "python",
   "pygments_lexer": "ipython3",
   "version": "3.11.4"
  }
 },
 "nbformat": 4,
 "nbformat_minor": 2
}
