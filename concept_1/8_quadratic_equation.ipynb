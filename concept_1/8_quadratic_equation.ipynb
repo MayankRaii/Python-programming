{
 "cells": [
  {
   "cell_type": "markdown",
   "metadata": {},
   "source": [
    "Given a quadratic equation with coefficients a, b and c, find the two solutions (may be real or complex). You should not take the square root of a negative number in your code."
   ]
  },
  {
   "cell_type": "code",
   "execution_count": 5,
   "metadata": {},
   "outputs": [
    {
     "name": "stdout",
     "output_type": "stream",
     "text": [
      "a = 4.0 b = 4.0 c = 1.0\n",
      "roots are real and equal\n",
      "First roots is : -0.5\n",
      "Second roots is : -0.5\n"
     ]
    }
   ],
   "source": [
    "# method 1\n",
    "# taking a, b and c as input\n",
    "a=float(input(\"coff. of x**2\"))\n",
    "b=float(input(\"coff. of x\"))\n",
    "c=float(input(\"constant\"))\n",
    "print(\"a =\",a,\"b =\",b,\"c =\",c)\n",
    "\n",
    "if a!=0:                                           # if a is not equal to zero then quadratic equation is define\n",
    "    D = (b**2)-(4*a*c)\n",
    "    if D > 0:\n",
    "        print(\"roots are real and different\")\n",
    "        root1 = ((-b) + (D**0.5))/ (2*a)\n",
    "        root2 = ((-b) - (D**0.5))/ (2*a)\n",
    "        print(\"First roots is :\", root1)\n",
    "        print(\"Second roots is :\", root2)\n",
    "    \n",
    "    elif D == 0:\n",
    "        print(\"roots are real and equal\")\n",
    "        root1 = ((-b) + (D**0.5))/ (2*a)\n",
    "        root2 = ((-b) - (D**0.5))/ (2*a)\n",
    "        print(\"First roots is :\", root1)\n",
    "        print(\"Second roots is :\", root2)\n",
    "    \n",
    "    else : \n",
    "        D < 0\n",
    "        print(\"roots are complex\")\n",
    "        real_part = (-b)/(2*a)\n",
    "        img_part = (-D)**0.5/(2*a)\n",
    "        print(\"x1 : real part =\",real_part,\"imag. part =\",img_part)\n",
    "        print(\"x2 : real part =\",real_part,\"imag. part =\",-img_part)\n",
    "    \n",
    "else:                                                 # if a is equal to zero then quadratic equation is define\n",
    "    print(\"equation is not a quadratic\")\n",
    "\n"
   ]
  },
  {
   "cell_type": "code",
   "execution_count": 6,
   "metadata": {},
   "outputs": [],
   "source": [
    "# method 2 (by function)\n",
    "#The function takes three numbers as input and stores it in the variable a, b and c. \n",
    "def quad_eq(a,b,c):\n",
    "    if a!=0:                                           # if a is not equal to zero then quadratic equation is define\n",
    "        D = (b**2)-(4*a*c)                             # D is equal to discriminant\n",
    "        if D > 0:                                      # roots are real and different\n",
    "            root1 = ((-b) + (D**0.5))/ (2*a)\n",
    "            root2 = ((-b) - (D**0.5))/ (2*a)\n",
    "            return \"First roots is :\", root1, \"Second roots is :\", root2\n",
    "        \n",
    "        elif D == 0:                                   # roots are real and equal\n",
    "            root1 = ((-b) + (D**0.5))/ (2*a)\n",
    "            root2 = ((-b) - (D**0.5))/ (2*a)\n",
    "            return \"First roots is :\", root1, \"Second roots is :\", root2\n",
    "            \n",
    "        \n",
    "        else : \n",
    "            D < 0                                       # roots are complex                                                                       \n",
    "            real_part = (-b)/(2*a)\n",
    "            img_part = (-D)**0.5/(2*a)\n",
    "            return \"x1 : real part =\",real_part,\"imag. part =\",img_part,\"x2 : real part =\",real_part,\"imag. part =\",-img_part\n",
    "            \n",
    "        \n",
    "    else:                                                 # if a is equal to zero then quadratic equation is define\n",
    "        return False,\"equation is not a quadratic\"\n",
    "    "
   ]
  },
  {
   "cell_type": "code",
   "execution_count": 8,
   "metadata": {},
   "outputs": [
    {
     "data": {
      "text/plain": [
       "('First roots is :', -0.5, 'Second roots is :', -0.5)"
      ]
     },
     "execution_count": 8,
     "metadata": {},
     "output_type": "execute_result"
    }
   ],
   "source": [
    "quad_eq(4,4,1)"
   ]
  },
  {
   "cell_type": "code",
   "execution_count": 9,
   "metadata": {},
   "outputs": [
    {
     "data": {
      "text/plain": [
       "('x1 : real part =',\n",
       " -0.5,\n",
       " 'imag. part =',\n",
       " 0.8660254037844386,\n",
       " 'x2 : real part =',\n",
       " -0.5,\n",
       " 'imag. part =',\n",
       " -0.8660254037844386)"
      ]
     },
     "execution_count": 9,
     "metadata": {},
     "output_type": "execute_result"
    }
   ],
   "source": [
    "quad_eq(1,1,1)"
   ]
  }
 ],
 "metadata": {
  "kernelspec": {
   "display_name": "Python 3",
   "language": "python",
   "name": "python3"
  },
  "language_info": {
   "codemirror_mode": {
    "name": "ipython",
    "version": 3
   },
   "file_extension": ".py",
   "mimetype": "text/x-python",
   "name": "python",
   "nbconvert_exporter": "python",
   "pygments_lexer": "ipython3",
   "version": "3.11.4"
  }
 },
 "nbformat": 4,
 "nbformat_minor": 2
}
