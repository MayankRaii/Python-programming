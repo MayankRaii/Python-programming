{
 "cells": [
  {
   "cell_type": "markdown",
   "metadata": {},
   "source": [
    "Given three points, find out whether they lie on the same straight line or not."
   ]
  },
  {
   "cell_type": "code",
   "execution_count": 1,
   "metadata": {},
   "outputs": [
    {
     "name": "stdout",
     "output_type": "stream",
     "text": [
      "(2, 3) (4, 5) (6, 7) points are on same line\n"
     ]
    }
   ],
   "source": [
    "# method 1\n",
    "# taking x1, y1, x2, y2, x3 and y3 as input\n",
    "x1=int(input(\"point no. X1\"))\n",
    "y1=int(input(\"point no. Y1\"))\n",
    "x2=int(input(\"point no. X2\"))\n",
    "y2=int(input(\"point no. Y2\"))\n",
    "x3=int(input(\"point no. X3\"))\n",
    "y3=int(input(\"point no. Y3\"))\n",
    "a=(x1,y1)                     #this is our first point\n",
    "b=(x2,y2)                     #this is our second point \n",
    "c=(x3,y3)                     #this is our third point\n",
    "\n",
    "tr_area = x1*(y2-y3)+x2*(y3-y1)+x3*(y1-y2)     #formula of area of triangle\n",
    "if tr_area == 0:\n",
    "    print(a,b,c,\"points are on same line\")\n",
    "else :\n",
    "    print(a,b,c,\"points are not on same line\")"
   ]
  },
  {
   "cell_type": "code",
   "execution_count": 2,
   "metadata": {},
   "outputs": [],
   "source": [
    "# method 2 (by function)\n",
    "#The function takes six points as input and stores it in the variable x1, y1, x2, y2, x3 and y3.\n",
    "def fun_point(x1,y1,x2,y2,x3,y3):\n",
    "    tr_area = x1*(y2-y3)+x2*(y3-y1)+x3*(y1-y2)             #formula of area of triangle\n",
    "    if tr_area == 0:\n",
    "        return (x1,y1),(x2,y2),(x3,y3),\"points are on same line\"\n",
    "    else :\n",
    "        return (x1,y1),(x2,y2),(x3,y3),\"points are not on same line\"\n",
    "\n"
   ]
  },
  {
   "cell_type": "code",
   "execution_count": 3,
   "metadata": {},
   "outputs": [
    {
     "data": {
      "text/plain": [
       "((1, 2), (3, 4), (5, 6), 'points are on same line')"
      ]
     },
     "execution_count": 3,
     "metadata": {},
     "output_type": "execute_result"
    }
   ],
   "source": [
    "#check here\n",
    "fun_point(1,2,3,4,5,6)"
   ]
  }
 ],
 "metadata": {
  "kernelspec": {
   "display_name": "Python 3",
   "language": "python",
   "name": "python3"
  },
  "language_info": {
   "codemirror_mode": {
    "name": "ipython",
    "version": 3
   },
   "file_extension": ".py",
   "mimetype": "text/x-python",
   "name": "python",
   "nbconvert_exporter": "python",
   "pygments_lexer": "ipython3",
   "version": "3.11.4"
  }
 },
 "nbformat": 4,
 "nbformat_minor": 2
}
