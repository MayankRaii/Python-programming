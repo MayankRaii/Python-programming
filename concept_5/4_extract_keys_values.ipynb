{
 "cells": [
  {
   "cell_type": "markdown",
   "metadata": {},
   "source": [
    "Create a new dictionary so that it only has the keys mentioned in another list\n",
    "sample_dict = { “name”: “Kelly”, “age”: 25, “salary”: 8000, “city”: “New york”}\n",
    "\n",
    "Keys to extract\n",
    "keys = [“name”, “salary”]\n"
   ]
  },
  {
   "cell_type": "code",
   "execution_count": 2,
   "metadata": {},
   "outputs": [
    {
     "name": "stdout",
     "output_type": "stream",
     "text": [
      "Dictionary is: {'name': 'Kelly', 'salary': 8000}\n"
     ]
    }
   ],
   "source": [
    "sample_dict = {\"name\": \"Kelly\", \"age\": 25, \"salary\": 8000, \"city\": \"New york\"}\n",
    "list_keys=[\"name\",\"salary\"]\n",
    "dict = {}\n",
    "for key,value in sample_dict.items():\n",
    "     # taking key from given list one by one\n",
    "    if key in list_keys:\n",
    "        # checking taken key is present in given sample dict\n",
    "        dict[key]=value\n",
    "print(\"Dictionary is:\",dict)"
   ]
  }
 ],
 "metadata": {
  "kernelspec": {
   "display_name": "Python 3",
   "language": "python",
   "name": "python3"
  },
  "language_info": {
   "codemirror_mode": {
    "name": "ipython",
    "version": 3
   },
   "file_extension": ".py",
   "mimetype": "text/x-python",
   "name": "python",
   "nbconvert_exporter": "python",
   "pygments_lexer": "ipython3",
   "version": "3.11.4"
  }
 },
 "nbformat": 4,
 "nbformat_minor": 2
}
