{
 "cells": [
  {
   "cell_type": "markdown",
   "metadata": {},
   "source": [
    "Write a for loop to create another dictionary from the above where the marks are replaced by grades. Above 80 is A grade, 60–80 is B grade, 40–60 is C grade, and below 40 is F. Create another dictionary to store the max and average marks for each student. Use this dictionary to compute the final CPI/CGPA of the student. Course1 is of 4 credits, Course2 of 10 credits, and Course3 of 6 credits. Store these credits in a list. Write this dictionary as a json file, and read it back into a new dictionary."
   ]
  },
  {
   "cell_type": "code",
   "execution_count": 19,
   "metadata": {},
   "outputs": [
    {
     "name": "stdout",
     "output_type": "stream",
     "text": [
      "{'Mayank': [82, 84, 72], 'Deepak': [87, 83, 78], 'Hemant': [38, 56, 61], 'Nikhil': [26, 44, 67], 'Raja': [63, 89, 50]}\n",
      "{'Mayank': ['A', 'A', 'B'], 'Deepak': ['A', 'A', 'B'], 'Hemant': ['F', 'C', 'B'], 'Nikhil': ['F', 'C', 'B'], 'Raja': ['B', 'A', 'C']}\n",
      "{'Mayank': {'max_mark': 84, 'avg_mark': 79.33333333333333}, 'Deepak': {'max_mark': 87, 'avg_mark': 82.66666666666667}, 'Hemant': {'max_mark': 61, 'avg_mark': 51.666666666666664}, 'Nikhil': {'max_mark': 67, 'avg_mark': 45.666666666666664}, 'Raja': {'max_mark': 89, 'avg_mark': 67.33333333333333}}\n",
      "CPI of Mayank is : 9.7\n",
      "CPI of Deepak is : 9.7\n",
      "CPI of Hemant is : 7.7\n",
      "CPI of Nikhil is : 7.7\n",
      "CPI of Raja is : 9.2\n",
      "Reading the python dictionary of the maximum and average marks of students into json file : \n",
      " {\"Mayank\": {\"max_mark\": 84, \"avg_mark\": 79.33333333333333}, \"Deepak\": {\"max_mark\": 87, \"avg_mark\": 82.66666666666667}, \"Hemant\": {\"max_mark\": 61, \"avg_mark\": 51.666666666666664}, \"Nikhil\": {\"max_mark\": 67, \"avg_mark\": 45.666666666666664}, \"Raja\": {\"max_mark\": 89, \"avg_mark\": 67.33333333333333}}\n",
      "{'Mayank': {'max_mark': 84, 'avg_mark': 79.33333333333333}, 'Deepak': {'max_mark': 87, 'avg_mark': 82.66666666666667}, 'Hemant': {'max_mark': 61, 'avg_mark': 51.666666666666664}, 'Nikhil': {'max_mark': 67, 'avg_mark': 45.666666666666664}, 'Raja': {'max_mark': 89, 'avg_mark': 67.33333333333333}}\n",
      "<class 'dict'>\n"
     ]
    }
   ],
   "source": [
    "dict_marks = {}      # creating empty dictionary students name and their marks.\n",
    "dict_marks[\"Mayank\"]=[82,84,72]\n",
    "dict_marks[\"Deepak\"]=[87,83,78]\n",
    "dict_marks[\"Hemant\"]=[38,56,61]\n",
    "dict_marks[\"Nikhil\"]=[26,44,67]\n",
    "dict_marks[\"Raja\"]=[63,89,50]\n",
    "print(dict_marks)\n",
    "course_name=[\"Physics\",\"Chemistry\",\"Maths\"]       # list of course name\n",
    "dict_grades={}       # creating empty dictionary for students name and grades.  \n",
    "dict_max_avg = {}    # creating empty dictionary for maximum number and average.\n",
    "\n",
    "# assigning grade to corresponding marks to \n",
    "for key,value in dict_marks.items():\n",
    "    list_grades=[] \n",
    "    for i in range(len(course_name)):\n",
    "        if value[i]>80:\n",
    "            list_grades.append(\"A\")\n",
    "        elif value[i]>60:\n",
    "            list_grades.append(\"B\")\n",
    "        elif value[i]>40:\n",
    "            list_grades.append(\"C\")\n",
    "        else:\n",
    "            list_grades.append(\"F\")\n",
    "    dict_grades[key]=list_grades\n",
    "    # assigning maximum number and average and creating a dictionary with maximum marks and average marks..\n",
    "    sum_num = 0      \n",
    "    dict = {}\n",
    "    max_num = value[0]\n",
    "    for mark in value:\n",
    "        sum_num += mark\n",
    "        if max_num < mark:\n",
    "            max_num = mark\n",
    "    dict[\"max_mark\"] = max_num\n",
    "    dict[\"avg_mark\"] = sum_num/len(value)\n",
    "    # create a dictionary with students name as key and dictionary of maximum marks and average as values\n",
    "    dict_max_avg[key] = dict\n",
    "print(dict_grades)\n",
    "print(dict_max_avg)\n",
    "# assigning CPI to each students..\n",
    "list_creidts=[4,10,6]\n",
    "total_credit=0\n",
    "for x in list_creidts:\n",
    "    total_credit+=x\n",
    "\n",
    "dict_value_grades={\"A\":10,\"B\":9,\"C\":8,\"F\":5}\n",
    "\n",
    "for key,value in dict_grades.items():\n",
    "    sum_grade=0\n",
    "    i=0\n",
    "    for grade in value:\n",
    "        a=dict_value_grades[grade]*list_creidts[i]\n",
    "        sum_grade+=a\n",
    "        i+=1\n",
    "    CPI=sum_grade/total_credit\n",
    "    print(\"CPI of\",key,\"is :\",CPI )\n",
    "# Creatinng json file into the json file..\n",
    "dict_new=dict_max_avg.copy()\n",
    "import json\n",
    "p=json.dumps(dict_new)\n",
    "print(\"Reading the python dictionary of the maximum and average marks of students into json file :\",\"\\n\",p)\n",
    "# Create python dictionary from the json file created above..\n",
    "q=json.loads(p)\n",
    "print(q)\n",
    "print(type(q))"
   ]
  }
 ],
 "metadata": {
  "kernelspec": {
   "display_name": "Python 3",
   "language": "python",
   "name": "python3"
  },
  "language_info": {
   "codemirror_mode": {
    "name": "ipython",
    "version": 3
   },
   "file_extension": ".py",
   "mimetype": "text/x-python",
   "name": "python",
   "nbconvert_exporter": "python",
   "pygments_lexer": "ipython3",
   "version": "3.11.4"
  }
 },
 "nbformat": 4,
 "nbformat_minor": 2
}
