{
 "cells": [
  {
   "cell_type": "markdown",
   "metadata": {},
   "source": [
    "Check if a key exists in a dictionary:\n",
    "sample_dict = {‘a’: 100, ‘b’: 200, ‘c’: 300}\n",
    "key_needed = ‘d’\n",
    "Check if a value exists in a dictionary:\n",
    "sample_dict = {‘a’: 100, ‘b’: 200, ‘c’: 300}\n",
    "value_needed = 200"
   ]
  },
  {
   "cell_type": "code",
   "execution_count": 2,
   "metadata": {},
   "outputs": [
    {
     "name": "stdout",
     "output_type": "stream",
     "text": [
      "d is not exist in dictionary.\n",
      "200 is exist in dictionary.\n"
     ]
    }
   ],
   "source": [
    "sample_dict = {\"a\": 100, \"b\": 200, \"c\": 300}\n",
    "key_needed = \"d\"\n",
    "value_needed =200\n",
    "# checking key is present or not.\n",
    "if key_needed in sample_dict.keys():\n",
    "     print(key_needed,\"is exist in dictionary.\")\n",
    "else:\n",
    "    print(key_needed,\"is not exist in dictionary.\")\n",
    "# checking value is present or not.\n",
    "if value_needed in sample_dict.values():\n",
    "     print(value_needed,\"is exist in dictionary.\")\n",
    "else:\n",
    "    print(value_needed,\"is not exist in dictionary.\")"
   ]
  }
 ],
 "metadata": {
  "kernelspec": {
   "display_name": "Python 3",
   "language": "python",
   "name": "python3"
  },
  "language_info": {
   "codemirror_mode": {
    "name": "ipython",
    "version": 3
   },
   "file_extension": ".py",
   "mimetype": "text/x-python",
   "name": "python",
   "nbconvert_exporter": "python",
   "pygments_lexer": "ipython3",
   "version": "3.11.4"
  }
 },
 "nbformat": 4,
 "nbformat_minor": 2
}
