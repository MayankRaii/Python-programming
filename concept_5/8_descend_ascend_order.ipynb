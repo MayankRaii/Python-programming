{
 "cells": [
  {
   "cell_type": "markdown",
   "metadata": {},
   "source": [
    "Create a dictionary of your marks in various subjects and then sort it by its values first in descending order, and then in or ascending order. Do not use any inbuilt sorting functions."
   ]
  },
  {
   "cell_type": "code",
   "execution_count": 2,
   "metadata": {},
   "outputs": [
    {
     "name": "stdout",
     "output_type": "stream",
     "text": [
      "Dictionary with descending order: {'Python': 29, 'Maths': 28, 'Engish': 25}\n",
      "Dictionary with ascending order: {'Engish': 25, 'Maths': 28, 'Python': 29}\n"
     ]
    }
   ],
   "source": [
    "dict = {}           # creating empty dictionary for subjects and marks\n",
    "dict[\"Maths\"]=28\n",
    "dict[\"Python\"]=29\n",
    "dict[\"Engish\"]=25\n",
    "\n",
    "lst = []           # creating empty list for marks\n",
    "for value in dict.values():\n",
    "    lst.append(value)\n",
    "l = len(lst)\n",
    "# for descending order\n",
    "for i in range(l):\n",
    "    for j in range(i+1,l):\n",
    "        if lst[i]<lst[j]:\n",
    "            # for sweep\n",
    "            a=lst[i]\n",
    "            b=lst[j]\n",
    "            lst[j]=a\n",
    "            lst[i]=b\n",
    "\n",
    "dict_descend = {}      # creating empty dictionary for marks with subjects in descending order.\n",
    "for k in lst:\n",
    "    for key,value in dict.items():\n",
    "        if value == k:\n",
    "            dict_descend[key] = value\n",
    "print(\"Dictionary with descending order:\",dict_descend)\n",
    "\n",
    "# for ascending order \n",
    "for x in range(l):\n",
    "    for y in range(x+1,l):\n",
    "        if lst[x]>lst[y]:\n",
    "            # for sweep          \n",
    "            a=lst[x]          \n",
    "            b=lst[y]\n",
    "            lst[y]=a\n",
    "            lst[x]=b\n",
    "\n",
    "dict_ascend= {}       # creating empty dictionary for marks with subjects in ascending order\n",
    "for k in lst:\n",
    "    for key,value in dict.items():\n",
    "        if value == k:\n",
    "            dict_ascend[key] = value\n",
    "print(\"Dictionary with ascending order:\", dict_ascend)"
   ]
  }
 ],
 "metadata": {
  "kernelspec": {
   "display_name": "Python 3",
   "language": "python",
   "name": "python3"
  },
  "language_info": {
   "codemirror_mode": {
    "name": "ipython",
    "version": 3
   },
   "file_extension": ".py",
   "mimetype": "text/x-python",
   "name": "python",
   "nbconvert_exporter": "python",
   "pygments_lexer": "ipython3",
   "version": "3.11.4"
  }
 },
 "nbformat": 4,
 "nbformat_minor": 2
}
