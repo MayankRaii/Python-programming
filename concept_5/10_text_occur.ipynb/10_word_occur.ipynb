{
 "cells": [
  {
   "cell_type": "markdown",
   "metadata": {},
   "source": [
    "Create a text file with one word in each line. The words can be repeated, i.e. the same word can come in more than one line. Read this text file in python, and create a dictionary where the key is the word and the value is the number of times it occurs in the text file."
   ]
  },
  {
   "cell_type": "code",
   "execution_count": 2,
   "metadata": {},
   "outputs": [
    {
     "name": "stdout",
     "output_type": "stream",
     "text": [
      "{'apple': 5, 'bow': 3, 'car': 4, 'date': 5, 'eye': 2, 'flag': 2}\n"
     ]
    }
   ],
   "source": [
    "# Opening text file in python...\n",
    "with open('testfile.txt', 'r') as file:\n",
    "    # Iterate over each line in the file\n",
    "    lines = file.readlines()\n",
    "    dict = {}\n",
    "    for x in lines:\n",
    "        if x not in dict.keys():\n",
    "            count=0\n",
    "            for i in lines:\n",
    "                if x == i:\n",
    "                    count += 1\n",
    "                    # Used strip to remove the whitespaces..\n",
    "            dict[x.strip()]=count\n",
    "    print(dict)"
   ]
  }
 ],
 "metadata": {
  "kernelspec": {
   "display_name": "Python 3",
   "language": "python",
   "name": "python3"
  },
  "language_info": {
   "codemirror_mode": {
    "name": "ipython",
    "version": 3
   },
   "file_extension": ".py",
   "mimetype": "text/x-python",
   "name": "python",
   "nbconvert_exporter": "python",
   "pygments_lexer": "ipython3",
   "version": "3.11.4"
  }
 },
 "nbformat": 4,
 "nbformat_minor": 2
}
