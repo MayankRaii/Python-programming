{
 "cells": [
  {
   "cell_type": "markdown",
   "metadata": {},
   "source": [
    "Remove a key from a dictionary:\n",
    "dict_name.pop(key_name)\n",
    "What does this function return?\n",
    "Use pop to rename a key."
   ]
  },
  {
   "cell_type": "code",
   "execution_count": 1,
   "metadata": {},
   "outputs": [
    {
     "name": "stdout",
     "output_type": "stream",
     "text": [
      "Kelly\n",
      "updated dictionary: {'age': 25, 'salary': 80000, 'city': 'New york'}\n",
      "{'age': 25, 'salary': 80000, 'city': 'New york', 'user': 'Kelly'}\n"
     ]
    }
   ],
   "source": [
    "sample_dict={\"name\":\"Kelly\",\"age\":25,\"salary\":80000,\"city\":\"New york\"}\n",
    "a=sample_dict.pop(\"name\")\n",
    "    #pop function will give the value corresponding to the key, we want to delete\n",
    "print(a)\n",
    "    # printing what will return pop function.\n",
    "print(\"updated dictionary:\",sample_dict)\n",
    "\n",
    "sample_dict[\"user\"]=a\n",
    "# Renaming a key by using pop function.\n",
    "print(sample_dict)"
   ]
  }
 ],
 "metadata": {
  "kernelspec": {
   "display_name": "Python 3",
   "language": "python",
   "name": "python3"
  },
  "language_info": {
   "codemirror_mode": {
    "name": "ipython",
    "version": 3
   },
   "file_extension": ".py",
   "mimetype": "text/x-python",
   "name": "python",
   "nbconvert_exporter": "python",
   "pygments_lexer": "ipython3",
   "version": "3.11.4"
  }
 },
 "nbformat": 4,
 "nbformat_minor": 2
}
