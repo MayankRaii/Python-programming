{
 "cells": [
  {
   "cell_type": "markdown",
   "metadata": {},
   "source": [
    "Create a dictionary to store the total marks of 5 students in the class in 3 subjects (Course1, Course2, Course3). The keys must be the student names, and the values must be the list of marks. Create another list which has the course names in the same order as the marks are stored in the dictionary values. Now write a nested for loop to print the marks for each student exam wise.\n",
    "\n",
    "Student1\n",
    "\n",
    "Course1 marks : 82 \n",
    "Course2 marks : 84 \n",
    "Course3 marks : 72 \n",
    "\n",
    "Student2\n",
    "\n",
    "Course1 marks : 87 \n",
    "Course2 marks : 83 \n",
    "Course3 marks : 78"
   ]
  },
  {
   "cell_type": "code",
   "execution_count": 1,
   "metadata": {},
   "outputs": [
    {
     "name": "stdout",
     "output_type": "stream",
     "text": [
      "{'Mayank': [82, 84, 72], 'Deepak': [87, 83, 78], 'Hemant': [38, 56, 61], 'Nikhil': [26, 44, 67], 'Raja': [63, 89, 50]}\n",
      "Mayank\n",
      "Physics : 82\n",
      "Chemistry : 84\n",
      "Maths : 72\n",
      "\n",
      "\n",
      "Deepak\n",
      "Physics : 87\n",
      "Chemistry : 83\n",
      "Maths : 78\n",
      "\n",
      "\n",
      "Hemant\n",
      "Physics : 38\n",
      "Chemistry : 56\n",
      "Maths : 61\n",
      "\n",
      "\n",
      "Nikhil\n",
      "Physics : 26\n",
      "Chemistry : 44\n",
      "Maths : 67\n",
      "\n",
      "\n",
      "Raja\n",
      "Physics : 63\n",
      "Chemistry : 89\n",
      "Maths : 50\n",
      "\n",
      "\n"
     ]
    }
   ],
   "source": [
    "dict_marks={}         # creating dictionary\n",
    "dict_marks[\"Mayank\"]=[82,84,72]\n",
    "dict_marks[\"Deepak\"]=[87,83,78]\n",
    "dict_marks[\"Hemant\"]=[38,56,61]\n",
    "dict_marks[\"Nikhil\"]=[26,44,67]\n",
    "dict_marks[\"Raja\"]=[63,89,50]\n",
    "print(dict_marks)\n",
    "course_name=[\"Physics\",\"Chemistry\",\"Maths\"]\n",
    "course_name_len=len(course_name)\n",
    "for key,value in dict_marks.items():\n",
    "    # iterating key and value of creating dictionary \n",
    "    print(key)\n",
    "    for i in range(course_name_len):\n",
    "        # iterating index by range \n",
    "        print(course_name[i],\":\",value[i])\n",
    "    print(\"\\n\")"
   ]
  }
 ],
 "metadata": {
  "kernelspec": {
   "display_name": "Python 3",
   "language": "python",
   "name": "python3"
  },
  "language_info": {
   "codemirror_mode": {
    "name": "ipython",
    "version": 3
   },
   "file_extension": ".py",
   "mimetype": "text/x-python",
   "name": "python",
   "nbconvert_exporter": "python",
   "pygments_lexer": "ipython3",
   "version": "3.11.4"
  }
 },
 "nbformat": 4,
 "nbformat_minor": 2
}
