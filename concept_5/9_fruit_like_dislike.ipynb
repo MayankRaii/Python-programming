{
 "cells": [
  {
   "cell_type": "markdown",
   "metadata": {},
   "source": [
    "Create a dictionary whose keys are the names of your family members and friends, and the values are the list of fruits they like to eat. Now if the user gives a fruit as input, the code should print the list of names who like this fruit. Write another code to print the list of people who do not like this fruit. Using this dictionary as input, write a code to make a consolidated list of all the fruit names present in the values of various keys. This list should not have any duplicate entries. Do not use the set() function."
   ]
  },
  {
   "cell_type": "code",
   "execution_count": 5,
   "metadata": {},
   "outputs": [
    {
     "name": "stdout",
     "output_type": "stream",
     "text": [
      "list of people who like banana : ['Mayank', 'Nikhil', 'Shashi']\n",
      "list of people who dislike banana : ['Shivam', 'Ayush', 'Raja']\n",
      "List of fruits is : ['mango', 'banana', 'orange', 'apple', 'pineapple', 'kiwi', 'watermelon', 'grapes', 'date', 'coconut', 'papaya']\n"
     ]
    }
   ],
   "source": [
    "dict_fr_like={}   #creating empty dictionary for family-friends names and their like fruits.\n",
    "dict_fr_like[\"Mayank\"]=[\"mango\",\"banana\",\"orange\",\"apple\"]\n",
    "dict_fr_like[\"Shivam\"]=[\"mango\",\"apple\"]\n",
    "dict_fr_like[\"Nikhil\"]=[\"mango\",\"pineapple\",\"kiwi\",\"banana\"]\n",
    "dict_fr_like[\"Ayush\"]=[\"mango\",\"orange\",\"watermelon\",\"grapes\"]\n",
    "dict_fr_like[\"Raja\"]=[\"mango\",\"date\",\"coconut\"]\n",
    "dict_fr_like[\"Shashi\"]=[\"kiwi\",\"banana\",\"papaya\"]\n",
    "fruit = input(\"Choose your fruit: \")     # take input of fruit\n",
    "li_fr = []            # like fruit list\n",
    "di_li_fr = []         # dislike fruit list\n",
    "all_fr = []           # all fruit list\n",
    "for key,value in dict_fr_like.items():\n",
    "    if fruit in value:             # if fruit like\n",
    "        li_fr.append(key)\n",
    "    else:                          # if fruit dislike\n",
    "        di_li_fr.append(key)\n",
    "    for x in value: \n",
    "        if x not in all_fr:        # for not repeat fruits\n",
    "            all_fr.append(x)\n",
    "    \n",
    "print(\"list of people who like\",fruit,\":\",li_fr)\n",
    "print(\"list of people who dislike\",fruit,\":\",di_li_fr)\n",
    "print(\"List of fruits is :\",all_fr)"
   ]
  }
 ],
 "metadata": {
  "kernelspec": {
   "display_name": "Python 3",
   "language": "python",
   "name": "python3"
  },
  "language_info": {
   "codemirror_mode": {
    "name": "ipython",
    "version": 3
   },
   "file_extension": ".py",
   "mimetype": "text/x-python",
   "name": "python",
   "nbconvert_exporter": "python",
   "pygments_lexer": "ipython3",
   "version": "3.11.4"
  }
 },
 "nbformat": 4,
 "nbformat_minor": 2
}
