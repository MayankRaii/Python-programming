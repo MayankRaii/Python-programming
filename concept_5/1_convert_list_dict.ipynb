{
 "cells": [
  {
   "cell_type": "markdown",
   "metadata": {},
   "source": [
    "Convert these two lists into a dictionary. Take the keys from the first list, and values from the second one.\n",
    "keys = [‘Ten’, ‘Twenty’, ‘Thirty’]\n",
    "values = [10, 20, 30]"
   ]
  },
  {
   "cell_type": "code",
   "execution_count": 2,
   "metadata": {},
   "outputs": [
    {
     "name": "stdout",
     "output_type": "stream",
     "text": [
      "Dictionary is : {'Ten': 10, 'Twenty': 20, 'Thirty': 30}\n"
     ]
    }
   ],
   "source": [
    "keys = [\"Ten\",\"Twenty\",\"Thirty\"]\n",
    "values = [10,20,30]\n",
    "dict = {}              # creating dictionary\n",
    "len_keys=len(keys)\n",
    "len_values=len(values)\n",
    "if len_keys==len_values:           # check for dictionary(key equal to value)\n",
    "    for i in range(len_keys):\n",
    "        # Itirating index of dictionary's keys one by one.\n",
    "        dict[keys[i]]=values[i]\n",
    "print(\"Dictionary is :\",dict)"
   ]
  }
 ],
 "metadata": {
  "kernelspec": {
   "display_name": "Python 3",
   "language": "python",
   "name": "python3"
  },
  "language_info": {
   "codemirror_mode": {
    "name": "ipython",
    "version": 3
   },
   "file_extension": ".py",
   "mimetype": "text/x-python",
   "name": "python",
   "nbconvert_exporter": "python",
   "pygments_lexer": "ipython3",
   "version": "3.11.4"
  }
 },
 "nbformat": 4,
 "nbformat_minor": 2
}
