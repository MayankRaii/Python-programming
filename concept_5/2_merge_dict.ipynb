{
 "cells": [
  {
   "cell_type": "markdown",
   "metadata": {},
   "source": [
    "Merge these two dictionaries into one using for loop\n",
    "dict1 = {‘Ten’: 10, ‘Twenty’: 20, ‘Thirty’: 30}\n",
    "dict2 = {‘Thirty’: 30, ‘Fourty’: 40, ‘Fifty’: 50}"
   ]
  },
  {
   "cell_type": "code",
   "execution_count": 1,
   "metadata": {},
   "outputs": [
    {
     "name": "stdout",
     "output_type": "stream",
     "text": [
      "new dictionary is : {'Ten': 10, 'Twenty': 20, 'Thirty': 30, 'Fourty': 40, 'Fifty': 50}\n"
     ]
    }
   ],
   "source": [
    "dict1 = {\"Ten\": 10, \"Twenty\": 20, \"Thirty\": 30}\n",
    "dict2 = {\"Thirty\": 30, \"Fourty\": 40, \"Fifty\": 50}\n",
    "dict3 = {}           # creating dictionary\n",
    "dict3=dict1.copy()   # copying dict1 in dict_3.\n",
    "for key,value in dict2.items():\n",
    "    # Iterating key and value of dict2 one by one. \n",
    "    if key not in dict1.keys():\n",
    "# I use dict1 here to make it efficient because if we use dic3,code have to check for a big dict.\n",
    "        dict3[key]=value       \n",
    "print(\"new dictionary is :\",dict3)"
   ]
  }
 ],
 "metadata": {
  "kernelspec": {
   "display_name": "Python 3",
   "language": "python",
   "name": "python3"
  },
  "language_info": {
   "codemirror_mode": {
    "name": "ipython",
    "version": 3
   },
   "file_extension": ".py",
   "mimetype": "text/x-python",
   "name": "python",
   "nbconvert_exporter": "python",
   "pygments_lexer": "ipython3",
   "version": "3.11.4"
  }
 },
 "nbformat": 4,
 "nbformat_minor": 2
}
